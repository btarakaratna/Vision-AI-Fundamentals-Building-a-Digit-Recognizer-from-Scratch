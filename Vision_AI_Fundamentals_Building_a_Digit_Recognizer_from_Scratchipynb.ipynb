{
  "cells": [
    {
      "cell_type": "markdown",
      "metadata": {
        "id": "view-in-github",
        "colab_type": "text"
      },
      "source": [
        "<a href=\"https://colab.research.google.com/github/btarakaratna/Vision-AI-Fundamentals-Building-a-Digit-Recognizer-from-Scratch/blob/main/Vision_AI_Fundamentals_Building_a_Digit_Recognizer_from_Scratchipynb.ipynb\" target=\"_parent\"><img src=\"https://colab.research.google.com/assets/colab-badge.svg\" alt=\"Open In Colab\"/></a>"
      ]
    },
    {
      "cell_type": "markdown",
      "metadata": {
        "id": "VcSVOde9elDd"
      },
      "source": [
        "# Fashion-MNIST Classification Transfer Learning with Pre-trained Models on CIFAR-100\n",
        "\n",
        "This project focuses on applying transfer learning using well-established pre-trained convolutional neural network (CNN) architectures to tackle the CIFAR-100 image classification task. The CIFAR-100 dataset contains 60,000 32×32 color images distributed across 100 classes, with 50,000 training images and 10,000 test images.\n",
        "\n",
        "By leveraging models pre-trained on the large-scale ImageNet dataset—such as ResNet50, VGG16, and MobileNetV2—we can benefit from their robust feature extraction capabilities. This reduces the need to train deep networks from scratch, accelerates convergence, and often improves performance on relatively smaller datasets. The primary goal is to evaluate how different pre-trained architectures adapt to the finer-grained challenges of CIFAR-100.\n",
        "\n",
        "**Project Agenda & Steps:**\n",
        "\n",
        "1.  **Data Loading and Preprocessing:**\n",
        "\n",
        "* Load the CIFAR-100 dataset from TensorFlow/Keras datasets.\n",
        "\n",
        "* Normalize pixel values to the range [0,1] for compatibility with neural networks.\n",
        "\n",
        "* One-hot encode the labels to represent the 100 classes correctly.\n",
        "\n",
        "* Since CIFAR-100 images are 32×32 RGB (3 channels), ensure preprocessing steps (e.g., resizing) are consistent with each pre-trained model’s input requirements (e.g., ResNet50 expects 224×224).\n",
        "\n",
        "* Verify dataset shapes after preprocessing.\n",
        "\n",
        "2.  **Model Preparation:**\n",
        "    *   Define the architecture for each model:\n",
        "        *   Basic ANN Model\n",
        "        *   Basic CNN Model\n",
        "        *   Deeper CNN Model\n",
        "\n",
        "3.  **Model Training:**\n",
        "* Train the models on the preprocessed CIFAR-100 dataset using:\n",
        "\n",
        "* EarlyStopping (to prevent overfitting).\n",
        "\n",
        "* ModelCheckpoint (to save the best model during training).\n",
        "\n",
        "* Optionally unfreeze the top layers of each base model for fine-tuning, enabling them to learn dataset-specific patterns while retaining general features.\n",
        "\n",
        "* Track training and validation accuracy and loss over epochs.\n",
        "\n",
        "4.  **Model Evaluation:**\n",
        "* Evaluate each trained model on the CIFAR-100 test set.\n",
        "\n",
        "*Collect metrics:\n",
        "*Test accuracy*\n",
        "*Test loss\n",
        "*Visualize results:\n",
        "*Training/validation curves\n",
        "*Confusion matrices for classification insights\n",
        "\n",
        "5.  **Prediction Analysis:**\n",
        "    *   Use the best performing model (Basic CNN in this case) to make predictions on the test set.\n",
        "    *   Identify and visualize examples of both correctly and incorrectly classified images to gain insights into model behavior.\n",
        "\n",
        "**Goal:** Through this project, we aim to understand how model complexity and architecture choice influence performance on a challenging dataset like CIFAR-100. By leveraging transfer learning, we demonstrate that pre-trained CNNs provide a powerful foundation for tackling fine-grained image classification tasks with limited data."
      ]
    },
    {
      "cell_type": "markdown",
      "metadata": {
        "id": "Qc_oHowRewrs"
      },
      "source": [
        "### 1. Dataset Setup Documentation\n",
        "\n",
        "#### 1.1: Library Imports\n",
        "\n",
        "This section imports the essential libraries:  \n",
        "- **NumPy** for numerical operations  \n",
        "- **TensorFlow / Keras** for building and training deep learning models  \n",
        "- **Matplotlib** for visualizations  "
      ]
    },
    {
      "cell_type": "code",
      "execution_count": null,
      "metadata": {
        "id": "-fdBD1Nve4mD"
      },
      "outputs": [],
      "source": [
        "import numpy as np\n",
        "import pandas as pd\n",
        "import tensorflow as tf\n",
        "from tensorflow import keras\n",
        "import matplotlib.pyplot as plt\n",
        "\n",
        "import plotly.graph_objects as go\n",
        "from plotly.subplots import make_subplots"
      ]
    },
    {
      "cell_type": "markdown",
      "metadata": {
        "id": "YfmG5GuCe-UA"
      },
      "source": [
        "#### 1.2 : Load Dataset\n",
        "\n",
        "Load the CIFAR-100 dataset from TensorFlow/Keras datasets.\n",
        "\n",
        "* Normalize pixel values to the range [0,1] for compatibility with neural networks:  \n",
        "- `train_images`, `train_labels` → training set  \n",
        "- `test_images`, `test_labels` → test set  \n"
      ]
    },
    {
      "cell_type": "code",
      "execution_count": 68,
      "metadata": {
        "colab": {
          "base_uri": "https://localhost:8080/"
        },
        "id": "T7vGVDvsfDAr",
        "outputId": "c6dd4ebb-cee9-4b8a-b5fe-82c28bc8ac60"
      },
      "outputs": [
        {
          "output_type": "stream",
          "name": "stdout",
          "text": [
            "CIFAR-100 Training images shape: (50000, 32, 32, 3)\n",
            "CIFAR-100 Testing images shape: (10000, 32, 32, 3)\n",
            "CIFAR-100 Training labels shape: (50000, 1)\n",
            "CIFAR-100 Testing labels shape: (10000, 1)\n"
          ]
        }
      ],
      "source": [
        "import numpy as np\n",
        "import tensorflow as tf\n",
        "from tensorflow import keras\n",
        "from tensorflow.keras import layers\n",
        "import matplotlib.pyplot as plt\n",
        "\n",
        "# Load CIFAR-100 dataset\n",
        "(cifar100_train_images, cifar100_train_labels), (cifar100_test_images, cifar100_test_labels) = keras.datasets.cifar100.load_data()\n",
        "\n",
        "print(\"CIFAR-100 Training images shape:\", cifar100_train_images.shape)\n",
        "print(\"CIFAR-100 Testing images shape:\", cifar100_test_images.shape)\n",
        "print(\"CIFAR-100 Training labels shape:\", cifar100_train_labels.shape)\n",
        "print(\"CIFAR-100 Testing labels shape:\", cifar100_test_labels.shape)\n",
        "\n",
        "# Normalize images (0–255 → 0–1)\n",
        "cifar100_train_images = cifar100_train_images.astype(\"float32\") / 255.0\n",
        "cifar100_test_images = cifar100_test_images.astype(\"float32\") / 255.0\n",
        "\n",
        "# One-hot encode labels\n",
        "cifar100_train_labels = keras.utils.to_categorical(cifar100_train_labels, 100)\n",
        "cifar100_test_labels = keras.utils.to_categorical(cifar100_test_labels, 100)\n",
        "\n",
        ""
      ]
    },
    {
      "cell_type": "code",
      "execution_count": 69,
      "metadata": {
        "colab": {
          "base_uri": "https://localhost:8080/"
        },
        "id": "G4XepOywfGYx",
        "outputId": "d3d0b18f-d3c2-4f00-d60b-caaba1608852"
      },
      "outputs": [
        {
          "output_type": "execute_result",
          "data": {
            "text/plain": [
              "(50000, 32, 32, 3)"
            ]
          },
          "metadata": {},
          "execution_count": 69
        }
      ],
      "source": [
        "cifar100_train_images.shape"
      ]
    },
    {
      "cell_type": "code",
      "execution_count": 70,
      "metadata": {
        "colab": {
          "base_uri": "https://localhost:8080/"
        },
        "id": "_Rp6dNgqfJcD",
        "outputId": "57c1d375-df3f-4784-96e0-0e6917182f96"
      },
      "outputs": [
        {
          "output_type": "execute_result",
          "data": {
            "text/plain": [
              "(50000, 100)"
            ]
          },
          "metadata": {},
          "execution_count": 70
        }
      ],
      "source": [
        "cifar100_train_labels.shape"
      ]
    },
    {
      "cell_type": "code",
      "execution_count": 71,
      "metadata": {
        "colab": {
          "base_uri": "https://localhost:8080/"
        },
        "id": "IZABfClEfLgd",
        "outputId": "74132cb2-58f0-4756-f618-0c0edc0ebc05"
      },
      "outputs": [
        {
          "output_type": "execute_result",
          "data": {
            "text/plain": [
              "(10000, 32, 32, 3)"
            ]
          },
          "metadata": {},
          "execution_count": 71
        }
      ],
      "source": [
        "cifar100_test_images.shape"
      ]
    },
    {
      "cell_type": "code",
      "execution_count": 72,
      "metadata": {
        "colab": {
          "base_uri": "https://localhost:8080/"
        },
        "id": "59thcVXTfNY0",
        "outputId": "2689d81a-cf1b-4c65-d32d-4eefe268bac4"
      },
      "outputs": [
        {
          "output_type": "execute_result",
          "data": {
            "text/plain": [
              "(10000, 100)"
            ]
          },
          "metadata": {},
          "execution_count": 72
        }
      ],
      "source": [
        "cifar100_test_labels.shape"
      ]
    },
    {
      "cell_type": "code",
      "execution_count": 73,
      "metadata": {
        "colab": {
          "base_uri": "https://localhost:8080/",
          "height": 430
        },
        "id": "CWqJc20GqO9Y",
        "outputId": "421b8c0e-e3bf-45a4-e81d-c7f778fc8bbf"
      },
      "outputs": [
        {
          "output_type": "display_data",
          "data": {
            "text/plain": [
              "<Figure size 640x480 with 2 Axes>"
            ],
            "image/png": "[encoded data removed]"
          },
          "metadata": {}
        }
      ],
      "source": [
        "plt.figure()\n",
        "plt.imshow(cifar100_train_images[20], cmap='gray')\n",
        "plt.colorbar()\n",
        "plt.grid(False)\n",
        "plt.show()"
      ]
    },
    {
      "cell_type": "code",
      "execution_count": null,
      "metadata": {
        "colab": {
          "base_uri": "https://localhost:8080/"
        },
        "id": "mxBN887WgeqW",
        "outputId": "30709cc5-46e8-43ec-b37c-8e64c5e81980"
      },
      "outputs": [
        {
          "data": {
            "text/plain": [
              "array([74])"
            ]
          },
          "execution_count": 11,
          "metadata": {},
          "output_type": "execute_result"
        }
      ],
      "source": [
        "cifar100_train_labels[20]"
      ]
    },
    {
      "cell_type": "code",
      "execution_count": null,
      "metadata": {
        "colab": {
          "base_uri": "https://localhost:8080/",
          "height": 887
        },
        "id": "4WtCtbyvfePa",
        "outputId": "1c0f6665-50fa-4747-da3a-732c3a22ef70"
      },
      "outputs": [
        {
          "data": {
            "text/html": [
              "<style>\n",
              "      .ndarray_repr .ndarray_raw_data {\n",
              "        display: none;\n",
              "      }\n",
              "      .ndarray_repr.show_array .ndarray_raw_data {\n",
              "        display: block;\n",
              "      }\n",
              "      .ndarray_repr.show_array .ndarray_image_preview {\n",
              "        display: none;\n",
              "      }\n",
              "      </style>\n",
              "      <div id=\"id-57df76ab-e8ac-440d-847e-1c0023c7f811\" class=\"ndarray_repr\"><pre>ndarray (32, 32, 3) <button style=\"padding: 0 2px;\">show data</button></pre><img src=\"data:image/png;base64,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\" class=\"ndarray_image_preview\" /><pre class=\"ndarray_raw_data\">array([[[255, 255, 255],\n",
              "        [255, 255, 255],\n",
              "        [255, 255, 255],\n",
              "        ...,\n",
              "        [195, 205, 193],\n",
              "        [212, 224, 204],\n",
              "        [182, 194, 167]],\n",
              "\n",
              "       [[255, 255, 255],\n",
              "        [254, 254, 254],\n",
              "        [254, 254, 254],\n",
              "        ...,\n",
              "        [170, 176, 150],\n",
              "        [161, 168, 130],\n",
              "        [146, 154, 113]],\n",
              "\n",
              "       [[255, 255, 255],\n",
              "        [254, 254, 254],\n",
              "        [255, 255, 255],\n",
              "        ...,\n",
              "        [189, 199, 169],\n",
              "        [166, 178, 130],\n",
              "        [121, 133,  87]],\n",
              "\n",
              "       ...,\n",
              "\n",
              "       [[148, 185,  79],\n",
              "        [142, 182,  57],\n",
              "        [140, 179,  60],\n",
              "        ...,\n",
              "        [ 30,  17,   1],\n",
              "        [ 65,  62,  15],\n",
              "        [ 76,  77,  20]],\n",
              "\n",
              "       [[122, 157,  66],\n",
              "        [120, 155,  58],\n",
              "        [126, 160,  71],\n",
              "        ...,\n",
              "        [ 22,  16,   3],\n",
              "        [ 97, 112,  56],\n",
              "        [141, 161,  87]],\n",
              "\n",
              "       [[ 87, 122,  41],\n",
              "        [ 88, 122,  39],\n",
              "        [101, 134,  56],\n",
              "        ...,\n",
              "        [ 34,  36,  10],\n",
              "        [105, 133,  59],\n",
              "        [138, 173,  79]]], dtype=uint8)</pre></div><script>\n",
              "      (() => {\n",
              "      const titles = ['show data', 'hide data'];\n",
              "      let index = 0\n",
              "      document.querySelector('#id-57df76ab-e8ac-440d-847e-1c0023c7f811 button').onclick = (e) => {\n",
              "        document.querySelector('#id-57df76ab-e8ac-440d-847e-1c0023c7f811').classList.toggle('show_array');\n",
              "        index = (++index) % 2;\n",
              "        document.querySelector('#id-57df76ab-e8ac-440d-847e-1c0023c7f811 button').textContent = titles[index];\n",
              "        e.preventDefault();\n",
              "        e.stopPropagation();\n",
              "      }\n",
              "      })();\n",
              "    </script>"
            ],
            "text/plain": [
              "array([[[255, 255, 255],\n",
              "        [255, 255, 255],\n",
              "        [255, 255, 255],\n",
              "        ...,\n",
              "        [195, 205, 193],\n",
              "        [212, 224, 204],\n",
              "        [182, 194, 167]],\n",
              "\n",
              "       [[255, 255, 255],\n",
              "        [254, 254, 254],\n",
              "        [254, 254, 254],\n",
              "        ...,\n",
              "        [170, 176, 150],\n",
              "        [161, 168, 130],\n",
              "        [146, 154, 113]],\n",
              "\n",
              "       [[255, 255, 255],\n",
              "        [254, 254, 254],\n",
              "        [255, 255, 255],\n",
              "        ...,\n",
              "        [189, 199, 169],\n",
              "        [166, 178, 130],\n",
              "        [121, 133,  87]],\n",
              "\n",
              "       ...,\n",
              "\n",
              "       [[148, 185,  79],\n",
              "        [142, 182,  57],\n",
              "        [140, 179,  60],\n",
              "        ...,\n",
              "        [ 30,  17,   1],\n",
              "        [ 65,  62,  15],\n",
              "        [ 76,  77,  20]],\n",
              "\n",
              "       [[122, 157,  66],\n",
              "        [120, 155,  58],\n",
              "        [126, 160,  71],\n",
              "        ...,\n",
              "        [ 22,  16,   3],\n",
              "        [ 97, 112,  56],\n",
              "        [141, 161,  87]],\n",
              "\n",
              "       [[ 87, 122,  41],\n",
              "        [ 88, 122,  39],\n",
              "        [101, 134,  56],\n",
              "        ...,\n",
              "        [ 34,  36,  10],\n",
              "        [105, 133,  59],\n",
              "        [138, 173,  79]]], dtype=uint8)"
            ]
          },
          "execution_count": 12,
          "metadata": {},
          "output_type": "execute_result"
        }
      ],
      "source": [
        "cifar100_train_images[0]\n",
        "#The image is a 2D array of pixel values, they are simply the Pixels..."
      ]
    },
    {
      "cell_type": "code",
      "source": [
        "model = keras.Sequential([\n",
        "    layers.Conv2D(32, (3,3), activation=\"relu\", padding=\"same\", input_shape=(32,32,3)),\n",
        "    layers.MaxPooling2D((2,2)),\n",
        "    layers.Conv2D(64, (3,3), activation=\"relu\", padding=\"same\"),\n",
        "    layers.MaxPooling2D((2,2)),\n",
        "    layers.Conv2D(128, (3,3), activation=\"relu\", padding=\"same\"),\n",
        "    layers.MaxPooling2D((2,2)),\n",
        "    layers.Flatten(),\n",
        "    layers.Dense(256, activation=\"relu\"),\n",
        "    layers.Dropout(0.5),\n",
        "    layers.Dense(100, activation=\"softmax\")\n",
        "])\n",
        "\n",
        "model.compile(optimizer=\"adam\",\n",
        "              loss=\"categorical_crossentropy\",\n",
        "              metrics=[\"accuracy\"])\n",
        "\n",
        "model.summary()"
      ],
      "metadata": {
        "colab": {
          "base_uri": "https://localhost:8080/",
          "height": 538
        },
        "id": "hjrTOF1f6htD",
        "outputId": "8d92b87e-7b3a-4a48-c5ca-b12ac21cae39"
      },
      "execution_count": 74,
      "outputs": [
        {
          "output_type": "stream",
          "name": "stderr",
          "text": [
            "/usr/local/lib/python3.12/dist-packages/keras/src/layers/convolutional/base_conv.py:113: UserWarning:\n",
            "\n",
            "Do not pass an `input_shape`/`input_dim` argument to a layer. When using Sequential models, prefer using an `Input(shape)` object as the first layer in the model instead.\n",
            "\n"
          ]
        },
        {
          "output_type": "display_data",
          "data": {
            "text/plain": [
              "\u001b[1mModel: \"sequential_19\"\u001b[0m\n"
            ],
            "text/html": [
              "<pre style=\"white-space:pre;overflow-x:auto;line-height:normal;font-family:Menlo,'DejaVu Sans Mono',consolas,'Courier New',monospace\"><span style=\"font-weight: bold\">Model: \"sequential_19\"</span>\n",
              "</pre>\n"
            ]
          },
          "metadata": {}
        },
        {
          "output_type": "display_data",
          "data": {
            "text/plain": [
              "┏━━━━━━━━━━━━━━━━━━━━━━━━━━━━━━━━━┳━━━━━━━━━━━━━━━━━━━━━━━━┳━━━━━━━━━━━━━━━┓\n",
              "┃\u001b[1m \u001b[0m\u001b[1mLayer (type)                   \u001b[0m\u001b[1m \u001b[0m┃\u001b[1m \u001b[0m\u001b[1mOutput Shape          \u001b[0m\u001b[1m \u001b[0m┃\u001b[1m \u001b[0m\u001b[1m      Param #\u001b[0m\u001b[1m \u001b[0m┃\n",
              "┡━━━━━━━━━━━━━━━━━━━━━━━━━━━━━━━━━╇━━━━━━━━━━━━━━━━━━━━━━━━╇━━━━━━━━━━━━━━━┩\n",
              "│ conv2d_33 (\u001b[38;5;33mConv2D\u001b[0m)              │ (\u001b[38;5;45mNone\u001b[0m, \u001b[38;5;34m32\u001b[0m, \u001b[38;5;34m32\u001b[0m, \u001b[38;5;34m32\u001b[0m)     │           \u001b[38;5;34m896\u001b[0m │\n",
              "├─────────────────────────────────┼────────────────────────┼───────────────┤\n",
              "│ max_pooling2d_26 (\u001b[38;5;33mMaxPooling2D\u001b[0m) │ (\u001b[38;5;45mNone\u001b[0m, \u001b[38;5;34m16\u001b[0m, \u001b[38;5;34m16\u001b[0m, \u001b[38;5;34m32\u001b[0m)     │             \u001b[38;5;34m0\u001b[0m │\n",
              "├─────────────────────────────────┼────────────────────────┼───────────────┤\n",
              "│ conv2d_34 (\u001b[38;5;33mConv2D\u001b[0m)              │ (\u001b[38;5;45mNone\u001b[0m, \u001b[38;5;34m16\u001b[0m, \u001b[38;5;34m16\u001b[0m, \u001b[38;5;34m64\u001b[0m)     │        \u001b[38;5;34m18,496\u001b[0m │\n",
              "├─────────────────────────────────┼────────────────────────┼───────────────┤\n",
              "│ max_pooling2d_27 (\u001b[38;5;33mMaxPooling2D\u001b[0m) │ (\u001b[38;5;45mNone\u001b[0m, \u001b[38;5;34m8\u001b[0m, \u001b[38;5;34m8\u001b[0m, \u001b[38;5;34m64\u001b[0m)       │             \u001b[38;5;34m0\u001b[0m │\n",
              "├─────────────────────────────────┼────────────────────────┼───────────────┤\n",
              "│ conv2d_35 (\u001b[38;5;33mConv2D\u001b[0m)              │ (\u001b[38;5;45mNone\u001b[0m, \u001b[38;5;34m8\u001b[0m, \u001b[38;5;34m8\u001b[0m, \u001b[38;5;34m128\u001b[0m)      │        \u001b[38;5;34m73,856\u001b[0m │\n",
              "├─────────────────────────────────┼────────────────────────┼───────────────┤\n",
              "│ max_pooling2d_28 (\u001b[38;5;33mMaxPooling2D\u001b[0m) │ (\u001b[38;5;45mNone\u001b[0m, \u001b[38;5;34m4\u001b[0m, \u001b[38;5;34m4\u001b[0m, \u001b[38;5;34m128\u001b[0m)      │             \u001b[38;5;34m0\u001b[0m │\n",
              "├─────────────────────────────────┼────────────────────────┼───────────────┤\n",
              "│ flatten_19 (\u001b[38;5;33mFlatten\u001b[0m)            │ (\u001b[38;5;45mNone\u001b[0m, \u001b[38;5;34m2048\u001b[0m)           │             \u001b[38;5;34m0\u001b[0m │\n",
              "├─────────────────────────────────┼────────────────────────┼───────────────┤\n",
              "│ dense_44 (\u001b[38;5;33mDense\u001b[0m)                │ (\u001b[38;5;45mNone\u001b[0m, \u001b[38;5;34m256\u001b[0m)            │       \u001b[38;5;34m524,544\u001b[0m │\n",
              "├─────────────────────────────────┼────────────────────────┼───────────────┤\n",
              "│ dropout (\u001b[38;5;33mDropout\u001b[0m)               │ (\u001b[38;5;45mNone\u001b[0m, \u001b[38;5;34m256\u001b[0m)            │             \u001b[38;5;34m0\u001b[0m │\n",
              "├─────────────────────────────────┼────────────────────────┼───────────────┤\n",
              "│ dense_45 (\u001b[38;5;33mDense\u001b[0m)                │ (\u001b[38;5;45mNone\u001b[0m, \u001b[38;5;34m100\u001b[0m)            │        \u001b[38;5;34m25,700\u001b[0m │\n",
              "└─────────────────────────────────┴────────────────────────┴───────────────┘\n"
            ],
            "text/html": [
              "<pre style=\"white-space:pre;overflow-x:auto;line-height:normal;font-family:Menlo,'DejaVu Sans Mono',consolas,'Courier New',monospace\">┏━━━━━━━━━━━━━━━━━━━━━━━━━━━━━━━━━┳━━━━━━━━━━━━━━━━━━━━━━━━┳━━━━━━━━━━━━━━━┓\n",
              "┃<span style=\"font-weight: bold\"> Layer (type)                    </span>┃<span style=\"font-weight: bold\"> Output Shape           </span>┃<span style=\"font-weight: bold\">       Param # </span>┃\n",
              "┡━━━━━━━━━━━━━━━━━━━━━━━━━━━━━━━━━╇━━━━━━━━━━━━━━━━━━━━━━━━╇━━━━━━━━━━━━━━━┩\n",
              "│ conv2d_33 (<span style=\"color: #0087ff; text-decoration-color: #0087ff\">Conv2D</span>)              │ (<span style=\"color: #00d7ff; text-decoration-color: #00d7ff\">None</span>, <span style=\"color: #00af00; text-decoration-color: #00af00\">32</span>, <span style=\"color: #00af00; text-decoration-color: #00af00\">32</span>, <span style=\"color: #00af00; text-decoration-color: #00af00\">32</span>)     │           <span style=\"color: #00af00; text-decoration-color: #00af00\">896</span> │\n",
              "├─────────────────────────────────┼────────────────────────┼───────────────┤\n",
              "│ max_pooling2d_26 (<span style=\"color: #0087ff; text-decoration-color: #0087ff\">MaxPooling2D</span>) │ (<span style=\"color: #00d7ff; text-decoration-color: #00d7ff\">None</span>, <span style=\"color: #00af00; text-decoration-color: #00af00\">16</span>, <span style=\"color: #00af00; text-decoration-color: #00af00\">16</span>, <span style=\"color: #00af00; text-decoration-color: #00af00\">32</span>)     │             <span style=\"color: #00af00; text-decoration-color: #00af00\">0</span> │\n",
              "├─────────────────────────────────┼────────────────────────┼───────────────┤\n",
              "│ conv2d_34 (<span style=\"color: #0087ff; text-decoration-color: #0087ff\">Conv2D</span>)              │ (<span style=\"color: #00d7ff; text-decoration-color: #00d7ff\">None</span>, <span style=\"color: #00af00; text-decoration-color: #00af00\">16</span>, <span style=\"color: #00af00; text-decoration-color: #00af00\">16</span>, <span style=\"color: #00af00; text-decoration-color: #00af00\">64</span>)     │        <span style=\"color: #00af00; text-decoration-color: #00af00\">18,496</span> │\n",
              "├─────────────────────────────────┼────────────────────────┼───────────────┤\n",
              "│ max_pooling2d_27 (<span style=\"color: #0087ff; text-decoration-color: #0087ff\">MaxPooling2D</span>) │ (<span style=\"color: #00d7ff; text-decoration-color: #00d7ff\">None</span>, <span style=\"color: #00af00; text-decoration-color: #00af00\">8</span>, <span style=\"color: #00af00; text-decoration-color: #00af00\">8</span>, <span style=\"color: #00af00; text-decoration-color: #00af00\">64</span>)       │             <span style=\"color: #00af00; text-decoration-color: #00af00\">0</span> │\n",
              "├─────────────────────────────────┼────────────────────────┼───────────────┤\n",
              "│ conv2d_35 (<span style=\"color: #0087ff; text-decoration-color: #0087ff\">Conv2D</span>)              │ (<span style=\"color: #00d7ff; text-decoration-color: #00d7ff\">None</span>, <span style=\"color: #00af00; text-decoration-color: #00af00\">8</span>, <span style=\"color: #00af00; text-decoration-color: #00af00\">8</span>, <span style=\"color: #00af00; text-decoration-color: #00af00\">128</span>)      │        <span style=\"color: #00af00; text-decoration-color: #00af00\">73,856</span> │\n",
              "├─────────────────────────────────┼────────────────────────┼───────────────┤\n",
              "│ max_pooling2d_28 (<span style=\"color: #0087ff; text-decoration-color: #0087ff\">MaxPooling2D</span>) │ (<span style=\"color: #00d7ff; text-decoration-color: #00d7ff\">None</span>, <span style=\"color: #00af00; text-decoration-color: #00af00\">4</span>, <span style=\"color: #00af00; text-decoration-color: #00af00\">4</span>, <span style=\"color: #00af00; text-decoration-color: #00af00\">128</span>)      │             <span style=\"color: #00af00; text-decoration-color: #00af00\">0</span> │\n",
              "├─────────────────────────────────┼────────────────────────┼───────────────┤\n",
              "│ flatten_19 (<span style=\"color: #0087ff; text-decoration-color: #0087ff\">Flatten</span>)            │ (<span style=\"color: #00d7ff; text-decoration-color: #00d7ff\">None</span>, <span style=\"color: #00af00; text-decoration-color: #00af00\">2048</span>)           │             <span style=\"color: #00af00; text-decoration-color: #00af00\">0</span> │\n",
              "├─────────────────────────────────┼────────────────────────┼───────────────┤\n",
              "│ dense_44 (<span style=\"color: #0087ff; text-decoration-color: #0087ff\">Dense</span>)                │ (<span style=\"color: #00d7ff; text-decoration-color: #00d7ff\">None</span>, <span style=\"color: #00af00; text-decoration-color: #00af00\">256</span>)            │       <span style=\"color: #00af00; text-decoration-color: #00af00\">524,544</span> │\n",
              "├─────────────────────────────────┼────────────────────────┼───────────────┤\n",
              "│ dropout (<span style=\"color: #0087ff; text-decoration-color: #0087ff\">Dropout</span>)               │ (<span style=\"color: #00d7ff; text-decoration-color: #00d7ff\">None</span>, <span style=\"color: #00af00; text-decoration-color: #00af00\">256</span>)            │             <span style=\"color: #00af00; text-decoration-color: #00af00\">0</span> │\n",
              "├─────────────────────────────────┼────────────────────────┼───────────────┤\n",
              "│ dense_45 (<span style=\"color: #0087ff; text-decoration-color: #0087ff\">Dense</span>)                │ (<span style=\"color: #00d7ff; text-decoration-color: #00d7ff\">None</span>, <span style=\"color: #00af00; text-decoration-color: #00af00\">100</span>)            │        <span style=\"color: #00af00; text-decoration-color: #00af00\">25,700</span> │\n",
              "└─────────────────────────────────┴────────────────────────┴───────────────┘\n",
              "</pre>\n"
            ]
          },
          "metadata": {}
        },
        {
          "output_type": "display_data",
          "data": {
            "text/plain": [
              "\u001b[1m Total params: \u001b[0m\u001b[38;5;34m643,492\u001b[0m (2.45 MB)\n"
            ],
            "text/html": [
              "<pre style=\"white-space:pre;overflow-x:auto;line-height:normal;font-family:Menlo,'DejaVu Sans Mono',consolas,'Courier New',monospace\"><span style=\"font-weight: bold\"> Total params: </span><span style=\"color: #00af00; text-decoration-color: #00af00\">643,492</span> (2.45 MB)\n",
              "</pre>\n"
            ]
          },
          "metadata": {}
        },
        {
          "output_type": "display_data",
          "data": {
            "text/plain": [
              "\u001b[1m Trainable params: \u001b[0m\u001b[38;5;34m643,492\u001b[0m (2.45 MB)\n"
            ],
            "text/html": [
              "<pre style=\"white-space:pre;overflow-x:auto;line-height:normal;font-family:Menlo,'DejaVu Sans Mono',consolas,'Courier New',monospace\"><span style=\"font-weight: bold\"> Trainable params: </span><span style=\"color: #00af00; text-decoration-color: #00af00\">643,492</span> (2.45 MB)\n",
              "</pre>\n"
            ]
          },
          "metadata": {}
        },
        {
          "output_type": "display_data",
          "data": {
            "text/plain": [
              "\u001b[1m Non-trainable params: \u001b[0m\u001b[38;5;34m0\u001b[0m (0.00 B)\n"
            ],
            "text/html": [
              "<pre style=\"white-space:pre;overflow-x:auto;line-height:normal;font-family:Menlo,'DejaVu Sans Mono',consolas,'Courier New',monospace\"><span style=\"font-weight: bold\"> Non-trainable params: </span><span style=\"color: #00af00; text-decoration-color: #00af00\">0</span> (0.00 B)\n",
              "</pre>\n"
            ]
          },
          "metadata": {}
        }
      ]
    },
    {
      "cell_type": "markdown",
      "metadata": {
        "id": "jNRxIo-6fVum"
      },
      "source": [
        "#### 1.3: Normalizing the Data:\n",
        "\n",
        "Scale pixel values from **0–255** to the range **0–1** for faster and more stable training.  \n",
        "\n",
        "**Example:**  \n",
        "- Before: a pixel value could be `200`  \n",
        "- After: `200 / 255 ≈ 0.78`  \n"
      ]
    },
    {
      "cell_type": "code",
      "execution_count": null,
      "metadata": {
        "id": "5bp_l-AZeVen"
      },
      "outputs": [],
      "source": [
        "cifar100_train_images = cifar100_train_images / 255.0\n",
        "cifar100_test_images = cifar100_test_images / 255.0"
      ]
    },
    {
      "cell_type": "markdown",
      "metadata": {
        "id": "Qr5SvAM6iVzl"
      },
      "source": [
        "#### 1.4: Reshaping Data\n",
        "\n",
        "Reshape images to **28×28×1** by adding a channel dimension, for  making it compatible with CNN layers.  \n",
        "\n",
        "**Example:**  \n",
        "- Before: `(60000, 28, 28)` → 60,000 grayscale images without channel info  \n",
        "- After: `(60000, 28, 28, 1)` → channel dimension (`1`) added for CNN input  \n"
      ]
    },
    {
      "cell_type": "code",
      "execution_count": null,
      "metadata": {
        "colab": {
          "base_uri": "https://localhost:8080/"
        },
        "id": "nbtM6X4Cib1H",
        "outputId": "bfef9462-1d84-4535-b341-53fdd899d63b"
      },
      "outputs": [
        {
          "data": {
            "text/plain": [
              "array([[[[0.00305495, 0.00329669, 0.00381313],\n",
              "         [0.00301007, 0.00323902, 0.00374322],\n",
              "         [0.00299924, 0.00322992, 0.00373491],\n",
              "         ...,\n",
              "         [0.00333278, 0.00355978, 0.00383918],\n",
              "         [0.00335122, 0.00356566, 0.00384468],\n",
              "         [0.00345574, 0.00360748, 0.00387426]],\n",
              "\n",
              "        [[0.00310815, 0.00327912, 0.00369677],\n",
              "         [0.00305534, 0.00324279, 0.0036792 ],\n",
              "         [0.00304812, 0.00326586, 0.00371843],\n",
              "         ...,\n",
              "         [0.00358653, 0.00374911, 0.00384248],\n",
              "         [0.0036136 , 0.0037575 , 0.00384797],\n",
              "         [0.00372761, 0.0037823 , 0.00388775]],\n",
              "\n",
              "        [[0.00350854, 0.00352392, 0.00377406],\n",
              "         [0.00336095, 0.00343141, 0.00372808],\n",
              "         [0.00328359, 0.00341541, 0.0037535 ],\n",
              "         ...,\n",
              "         [0.00378096, 0.00385213, 0.003873  ],\n",
              "         [0.00378991, 0.00384907, 0.00387653],\n",
              "         [0.00386123, 0.00386515, 0.00389489]],\n",
              "\n",
              "        ...,\n",
              "\n",
              "        [[0.00106458, 0.00107667, 0.00145674],\n",
              "         [0.00108961, 0.00113355, 0.00154878],\n",
              "         [0.00113881, 0.00120739, 0.00164874],\n",
              "         ...,\n",
              "         [0.00341078, 0.00322623, 0.00335209],\n",
              "         [0.00291426, 0.0026868 , 0.00285628],\n",
              "         [0.00259139, 0.0023695 , 0.00248013]],\n",
              "\n",
              "        [[0.00111048, 0.00115223, 0.00158966],\n",
              "         [0.00117514, 0.00124615, 0.0017101 ],\n",
              "         [0.00126592, 0.00135168, 0.0018536 ],\n",
              "         ...,\n",
              "         [0.00346986, 0.00332478, 0.003426  ],\n",
              "         [0.00297939, 0.00278276, 0.00301438],\n",
              "         [0.00230571, 0.00210225, 0.00233913]],\n",
              "\n",
              "        [[0.0012259 , 0.00130178, 0.00180496],\n",
              "         [0.00128797, 0.0013822 , 0.00189323],\n",
              "         [0.00128059, 0.00139703, 0.00193348],\n",
              "         ...,\n",
              "         [0.00336268, 0.00322537, 0.00332604],\n",
              "         [0.00320026, 0.00301022, 0.00324287],\n",
              "         [0.00270751, 0.00252085, 0.00280889]]],\n",
              "\n",
              "\n",
              "       [[[0.00169119, 0.0019538 , 0.00146058],\n",
              "         [0.00128961, 0.00155301, 0.00106333],\n",
              "         [0.00105038, 0.00131802, 0.00083657],\n",
              "         ...,\n",
              "         [0.00151802, 0.00177687, 0.00134305],\n",
              "         [0.0013873 , 0.00169158, 0.00119507],\n",
              "         [0.0009964 , 0.00128867, 0.00086026]],\n",
              "\n",
              "        [[0.00139028, 0.00166773, 0.00115411],\n",
              "         [0.00110609, 0.00138769, 0.00088749],\n",
              "         [0.00092406, 0.00118981, 0.00072421],\n",
              "         ...,\n",
              "         [0.00135364, 0.00158973, 0.00110279],\n",
              "         [0.0013181 , 0.00161108, 0.00105085],\n",
              "         [0.00097066, 0.00123979, 0.00073849]],\n",
              "\n",
              "        [[0.00120935, 0.00149016, 0.00095881],\n",
              "         [0.00095128, 0.00120495, 0.00070303],\n",
              "         [0.0008146 , 0.00102841, 0.00058941],\n",
              "         ...,\n",
              "         [0.00083641, 0.0009913 , 0.00065964],\n",
              "         [0.00092217, 0.00115725, 0.00077074],\n",
              "         [0.00077568, 0.00100228, 0.00062339]],\n",
              "\n",
              "        ...,\n",
              "\n",
              "        [[0.00191528, 0.00166113, 0.00143045],\n",
              "         [0.00201775, 0.00175827, 0.0015913 ],\n",
              "         [0.00230869, 0.00202049, 0.00187377],\n",
              "         ...,\n",
              "         [0.00118989, 0.00150884, 0.00106639],\n",
              "         [0.00115183, 0.00147706, 0.00104975],\n",
              "         [0.0010496 , 0.00136447, 0.00098047]],\n",
              "\n",
              "        [[0.00245173, 0.00208962, 0.00186953],\n",
              "         [0.00242419, 0.00210421, 0.00191159],\n",
              "         [0.00248052, 0.00219555, 0.00202622],\n",
              "         ...,\n",
              "         [0.0014904 , 0.00168828, 0.00122739],\n",
              "         [0.00135458, 0.00158707, 0.00117474],\n",
              "         [0.0011155 , 0.00134752, 0.00099028]],\n",
              "\n",
              "        [[0.00258762, 0.00230335, 0.00207385],\n",
              "         [0.00261838, 0.00234094, 0.00211269],\n",
              "         [0.00269182, 0.00243407, 0.00221767],\n",
              "         ...,\n",
              "         [0.00186278, 0.0019312 , 0.00150201],\n",
              "         [0.00157224, 0.00168122, 0.00127761],\n",
              "         [0.00129628, 0.00142488, 0.00104136]]],\n",
              "\n",
              "\n",
              "       [[[0.00094555, 0.00139162, 0.00185298],\n",
              "         [0.00097561, 0.00141123, 0.00186953],\n",
              "         [0.00101288, 0.00145925, 0.00191692],\n",
              "         ...,\n",
              "         [0.00113967, 0.001482  , 0.00195694],\n",
              "         [0.00102629, 0.00137451, 0.00184819],\n",
              "         [0.00100511, 0.00136761, 0.00184105]],\n",
              "\n",
              "        [[0.00103045, 0.00148852, 0.00194988],\n",
              "         [0.00116164, 0.00161712, 0.00207848],\n",
              "         [0.00107863, 0.00153128, 0.00199813],\n",
              "         ...,\n",
              "         [0.00159946, 0.00185211, 0.00229488],\n",
              "         [0.00140095, 0.00166459, 0.00209378],\n",
              "         [0.00137129, 0.00164615, 0.0020704 ]],\n",
              "\n",
              "        [[0.00094367, 0.00138926, 0.00185062],\n",
              "         [0.0008412 , 0.00128169, 0.00174305],\n",
              "         [0.00081138, 0.00126678, 0.00173167],\n",
              "         ...,\n",
              "         [0.00179797, 0.00200308, 0.0024194 ],\n",
              "         [0.00171488, 0.0019192 , 0.00233231],\n",
              "         [0.0017509 , 0.00195521, 0.00236126]],\n",
              "\n",
              "        ...,\n",
              "\n",
              "        [[0.00130413, 0.0014037 , 0.00144065],\n",
              "         [0.00108365, 0.00101703, 0.00065932],\n",
              "         [0.00135144, 0.00128781, 0.00052907],\n",
              "         ...,\n",
              "         [0.00303761, 0.00248076, 0.00236408],\n",
              "         [0.00350124, 0.00300803, 0.00286177],\n",
              "         [0.00346782, 0.00302042, 0.0028187 ]],\n",
              "\n",
              "        [[0.00114108, 0.00104481, 0.00090695],\n",
              "         [0.00111488, 0.00092508, 0.00051009],\n",
              "         [0.00132123, 0.00127714, 0.00061013],\n",
              "         ...,\n",
              "         [0.00299955, 0.00239052, 0.00231136],\n",
              "         [0.00307166, 0.00247158, 0.00235184],\n",
              "         [0.00314063, 0.00261383, 0.00243015]],\n",
              "\n",
              "        [[0.00111119, 0.00094367, 0.00071636],\n",
              "         [0.00116855, 0.00100974, 0.00054124],\n",
              "         [0.00118793, 0.00115254, 0.00055269],\n",
              "         ...,\n",
              "         [0.00335428, 0.00281132, 0.00277766],\n",
              "         [0.00264459, 0.00208609, 0.00202701],\n",
              "         [0.0021498 , 0.00159687, 0.00146058]]],\n",
              "\n",
              "\n",
              "       ...,\n",
              "\n",
              "\n",
              "       [[[0.0003643 , 0.0005778 , 0.00047195],\n",
              "         [0.00036666, 0.0006011 , 0.00047054],\n",
              "         [0.0002918 , 0.00042943, 0.00038816],\n",
              "         ...,\n",
              "         [0.00101546, 0.00110287, 0.00107627],\n",
              "         [0.00060981, 0.00067902, 0.00063508],\n",
              "         [0.00040691, 0.00055308, 0.0005053 ]],\n",
              "\n",
              "        [[0.00031503, 0.00049251, 0.00041585],\n",
              "         [0.00043131, 0.00069816, 0.0005206 ],\n",
              "         [0.00035096, 0.00055042, 0.00042331],\n",
              "         ...,\n",
              "         [0.00086474, 0.00093606, 0.00090813],\n",
              "         [0.00061193, 0.00067109, 0.0006995 ],\n",
              "         [0.00057301, 0.00068859, 0.00061986]],\n",
              "\n",
              "        [[0.00044253, 0.00074383, 0.00049675],\n",
              "         [0.00053488, 0.00090538, 0.00057074],\n",
              "         [0.00056603, 0.00096509, 0.00055803],\n",
              "         ...,\n",
              "         [0.00060008, 0.00083139, 0.00057168],\n",
              "         [0.00055065, 0.00071323, 0.00060777],\n",
              "         [0.00060816, 0.0007698 , 0.00065728]],\n",
              "\n",
              "        ...,\n",
              "\n",
              "        [[0.00065877, 0.00124175, 0.00046513],\n",
              "         [0.00076266, 0.00146553, 0.00043374],\n",
              "         [0.00099342, 0.00160213, 0.00080456],\n",
              "         ...,\n",
              "         [0.00061876, 0.00128161, 0.00043508],\n",
              "         [0.00097655, 0.00149393, 0.00096572],\n",
              "         [0.00082637, 0.00140864, 0.0008026 ]],\n",
              "\n",
              "        [[0.00060252, 0.00113214, 0.00049165],\n",
              "         [0.00067658, 0.00143195, 0.00035214],\n",
              "         [0.00085415, 0.0014937 , 0.00058219],\n",
              "         ...,\n",
              "         [0.00053308, 0.00117796, 0.00032295],\n",
              "         [0.00093433, 0.00145313, 0.00086191],\n",
              "         [0.00092421, 0.00152838, 0.00084975]],\n",
              "\n",
              "        [[0.00071715, 0.0013454 , 0.00049102],\n",
              "         [0.00060244, 0.00131088, 0.00028749],\n",
              "         [0.00077215, 0.00140966, 0.00040212],\n",
              "         ...,\n",
              "         [0.00049298, 0.00107117, 0.00027666],\n",
              "         [0.00089589, 0.00137067, 0.00072625],\n",
              "         [0.00092939, 0.00145423, 0.0008321 ]]],\n",
              "\n",
              "\n",
              "       [[[0.00132225, 0.00137639, 0.00122214],\n",
              "         [0.00117027, 0.00112829, 0.0009454 ],\n",
              "         [0.0005115 , 0.00046748, 0.00039224],\n",
              "         ...,\n",
              "         [0.00133434, 0.0009625 , 0.00067274],\n",
              "         [0.00101978, 0.00073865, 0.00056815],\n",
              "         [0.00134807, 0.00103508, 0.00088357]],\n",
              "\n",
              "        [[0.00115889, 0.00121123, 0.00112272],\n",
              "         [0.00054453, 0.0005592 , 0.00053072],\n",
              "         [0.00057992, 0.00055991, 0.00051236],\n",
              "         ...,\n",
              "         [0.00124662, 0.00083029, 0.00055159],\n",
              "         [0.00061727, 0.00041797, 0.00029055],\n",
              "         [0.00078808, 0.00058062, 0.00045587]],\n",
              "\n",
              "        [[0.00100338, 0.00102982, 0.00092147],\n",
              "         [0.00060322, 0.00063484, 0.00059922],\n",
              "         [0.00113175, 0.00108153, 0.0009454 ],\n",
              "         ...,\n",
              "         [0.00099875, 0.00067454, 0.00044637],\n",
              "         [0.00065155, 0.00046952, 0.00034673],\n",
              "         [0.00079255, 0.00059647, 0.00042998]],\n",
              "\n",
              "        ...,\n",
              "\n",
              "        [[0.00084065, 0.00081397, 0.00072798],\n",
              "         [0.00153646, 0.00144434, 0.00124536],\n",
              "         [0.00196212, 0.00187604, 0.00162583],\n",
              "         ...,\n",
              "         [0.00200198, 0.0020824 , 0.00199986],\n",
              "         [0.00193466, 0.00194462, 0.00188311],\n",
              "         [0.00180621, 0.00185533, 0.00184325]],\n",
              "\n",
              "        [[0.00071393, 0.000686  , 0.00058204],\n",
              "         [0.00131072, 0.001235  , 0.00104646],\n",
              "         [0.00162182, 0.0015822 , 0.0013884 ],\n",
              "         ...,\n",
              "         [0.00207181, 0.00207432, 0.0019414 ],\n",
              "         [0.002007  , 0.00196816, 0.00184843],\n",
              "         [0.00186412, 0.00185596, 0.00177444]],\n",
              "\n",
              "        [[0.00127714, 0.00122881, 0.00104732],\n",
              "         [0.00145525, 0.00137655, 0.00116933],\n",
              "         [0.00125862, 0.00125352, 0.00112516],\n",
              "         ...,\n",
              "         [0.00204937, 0.00200182, 0.0018631 ],\n",
              "         [0.00199531, 0.00192391, 0.00178613],\n",
              "         [0.00185643, 0.00181029, 0.00168828]]],\n",
              "\n",
              "\n",
              "       [[[0.00374008, 0.00373271, 0.00366358],\n",
              "         [0.00361133, 0.00357924, 0.00346091],\n",
              "         [0.00301642, 0.00298464, 0.00267668],\n",
              "         ...,\n",
              "         [0.00109597, 0.00046576, 0.00051079],\n",
              "         [0.00117624, 0.00051738, 0.00056328],\n",
              "         [0.00124348, 0.00052295, 0.00054155]],\n",
              "\n",
              "        [[0.00304781, 0.00295569, 0.00277429],\n",
              "         [0.00346468, 0.00338488, 0.00320238],\n",
              "         [0.00305903, 0.0029881 , 0.0027757 ],\n",
              "         ...,\n",
              "         [0.00111833, 0.00047886, 0.00051079],\n",
              "         [0.00120103, 0.00053166, 0.0005745 ],\n",
              "         [0.00126898, 0.00052091, 0.00055583]],\n",
              "\n",
              "        [[0.00247064, 0.00234094, 0.0020416 ],\n",
              "         [0.00254149, 0.00236134, 0.0020868 ],\n",
              "         [0.00235726, 0.00219452, 0.00198432],\n",
              "         ...,\n",
              "         [0.00110311, 0.00047454, 0.00050726],\n",
              "         [0.00119295, 0.00052735, 0.0005647 ],\n",
              "         [0.00124717, 0.0005042 , 0.00054995]],\n",
              "\n",
              "        ...,\n",
              "\n",
              "        [[0.00302239, 0.00288382, 0.00264584],\n",
              "         [0.001807  , 0.00174219, 0.00117639],\n",
              "         [0.00134587, 0.0012405 , 0.00092327],\n",
              "         ...,\n",
              "         [0.00094446, 0.00107345, 0.00078431],\n",
              "         [0.00081068, 0.00108804, 0.00051244],\n",
              "         [0.0009057 , 0.0011953 , 0.00057764]],\n",
              "\n",
              "        [[0.0025593 , 0.002458  , 0.00219311],\n",
              "         [0.00113708, 0.00115395, 0.00062237],\n",
              "         [0.00170076, 0.00168773, 0.00147989],\n",
              "         ...,\n",
              "         [0.00108608, 0.00148342, 0.00072766],\n",
              "         [0.00182606, 0.00237978, 0.00127267],\n",
              "         [0.0021804 , 0.00274173, 0.00157334]],\n",
              "\n",
              "        [[0.00174297, 0.00163807, 0.00141688],\n",
              "         [0.00097011, 0.00090656, 0.00066356],\n",
              "         [0.00220543, 0.0021163 , 0.00198479],\n",
              "         ...,\n",
              "         [0.00175294, 0.00225133, 0.00137781],\n",
              "         [0.00244419, 0.00300285, 0.00203431],\n",
              "         [0.00228075, 0.00283878, 0.00183705]]]], dtype=float32)"
            ]
          },
          "execution_count": 44,
          "metadata": {},
          "output_type": "execute_result"
        }
      ],
      "source": [
        "cifar100_train_images_reshaped  # shape: (50000, 28, 28, 3)\n",
        "cifar100_test_images_reshaped   # shape: (10000, 28, 28, 3)\n"
      ]
    },
    {
      "cell_type": "code",
      "execution_count": null,
      "metadata": {
        "colab": {
          "base_uri": "https://localhost:8080/"
        },
        "id": "dQ05kqIqenur",
        "outputId": "ca19d983-5e75-48b3-a461-99d4562c5907"
      },
      "outputs": [
        {
          "name": "stdout",
          "output_type": "stream",
          "text": [
            "Reshaped CIFAR-100 Training images shape: (50000, 28, 28, 3)\n",
            "Reshaped CIFAR-100 Testing images shape: (10000, 28, 28, 3)\n"
          ]
        }
      ],
      "source": [
        "from tensorflow.image import resize\n",
        "\n",
        "# Resize images to 28x28\n",
        "cifar100_train_images_resized = resize(cifar100_train_images, (28, 28))\n",
        "cifar100_test_images_resized = resize(cifar100_test_images, (28, 28))\n",
        "\n",
        "# Reshape images to 28x28x3 (since CIFAR-100 is color)\n",
        "# If the models are designed for grayscale (28x28x1), we would need to convert to grayscale first.\n",
        "# Assuming the models can handle 3 channels for now, or they will be adapted later.\n",
        "cifar100_train_images_reshaped = cifar100_train_images_resized.numpy().reshape((cifar100_train_images_resized.shape[0], 28, 28, 3))\n",
        "cifar100_test_images_reshaped = cifar100_test_images_resized.numpy().reshape((cifar100_test_images_resized.shape[0], 28, 28, 3))\n",
        "\n",
        "print(\"Reshaped CIFAR-100 Training images shape:\", cifar100_train_images_reshaped.shape)\n",
        "print(\"Reshaped CIFAR-100 Testing images shape:\", cifar100_test_images_reshaped.shape)"
      ]
    },
    {
      "cell_type": "markdown",
      "metadata": {
        "id": "qWUbPoHCidNn"
      },
      "source": [
        "#### 1.5: One-Hot Encode Labels\n",
        "\n",
        "Convert class labels (0–9) into **one-hot encoded vectors** with 10 output classes, required for multi-class classification.  \n",
        "\n",
        "**Example:**  \n",
        "- Original label: `3`  \n",
        "- One-hot encoded: `[0, 0, 0, 1, 0, 0, 0, 0, 0, 0]`  \n"
      ]
    },
    {
      "cell_type": "code",
      "execution_count": null,
      "metadata": {
        "id": "haJjRLLMe2VS"
      },
      "outputs": [],
      "source": [
        "train_labels_one_hot = keras.utils.to_categorical(cifar100_train_labels, num_classes=100)\n",
        "test_labels_one_hot = keras.utils.to_categorical(cifar100_test_labels, num_classes=100)"
      ]
    },
    {
      "cell_type": "code",
      "execution_count": null,
      "metadata": {
        "colab": {
          "base_uri": "https://localhost:8080/"
        },
        "id": "gmprGHkbivdX",
        "outputId": "483ba06c-589e-4dc6-da61-da176325c933"
      },
      "outputs": [
        {
          "name": "stdout",
          "output_type": "stream",
          "text": [
            "[0. 0. 0. 0. 0. 0. 0. 0. 0. 0. 0. 0. 0. 0. 0. 0. 0. 0. 0. 1. 0. 0. 0. 0.\n",
            " 0. 0. 0. 0. 0. 0. 0. 0. 0. 0. 0. 0. 0. 0. 0. 0. 0. 0. 0. 0. 0. 0. 0. 0.\n",
            " 0. 0. 0. 0. 0. 0. 0. 0. 0. 0. 0. 0. 0. 0. 0. 0. 0. 0. 0. 0. 0. 0. 0. 0.\n",
            " 0. 0. 0. 0. 0. 0. 0. 0. 0. 0. 0. 0. 0. 0. 0. 0. 0. 0. 0. 0. 0. 0. 0. 0.\n",
            " 0. 0. 0. 0.]\n",
            "[0. 0. 0. 0. 0. 0. 0. 0. 0. 0. 0. 0. 0. 0. 0. 0. 0. 0. 0. 0. 0. 0. 0. 0.\n",
            " 0. 0. 0. 0. 0. 1. 0. 0. 0. 0. 0. 0. 0. 0. 0. 0. 0. 0. 0. 0. 0. 0. 0. 0.\n",
            " 0. 0. 0. 0. 0. 0. 0. 0. 0. 0. 0. 0. 0. 0. 0. 0. 0. 0. 0. 0. 0. 0. 0. 0.\n",
            " 0. 0. 0. 0. 0. 0. 0. 0. 0. 0. 0. 0. 0. 0. 0. 0. 0. 0. 0. 0. 0. 0. 0. 0.\n",
            " 0. 0. 0. 0.]\n",
            "[0. 0. 0. 0. 0. 0. 0. 0. 0. 0. 0. 0. 0. 0. 0. 0. 0. 0. 0. 0. 0. 0. 0. 0.\n",
            " 0. 0. 0. 0. 0. 0. 0. 0. 0. 0. 0. 0. 0. 0. 0. 0. 0. 0. 0. 0. 0. 0. 0. 0.\n",
            " 0. 0. 0. 0. 0. 0. 0. 0. 0. 0. 0. 0. 0. 0. 0. 0. 0. 0. 0. 0. 0. 0. 0. 0.\n",
            " 0. 0. 0. 0. 0. 0. 0. 0. 1. 0. 0. 0. 0. 0. 0. 0. 0. 0. 0. 0. 0. 0. 0. 0.\n",
            " 0. 0. 0. 0.]\n"
          ]
        }
      ],
      "source": [
        "print(train_labels_one_hot[0])\n",
        "print(train_labels_one_hot[1])\n",
        "print(train_labels_one_hot[18])"
      ]
    },
    {
      "cell_type": "markdown",
      "metadata": {
        "id": "0f9b68b1"
      },
      "source": [
        "#### 1.6: Verify Dataset Shapes\n",
        "\n",
        "Post-preprocessing, the data shapes are as expected for CIFAR-100:\n",
        "training images `(50000, 28, 28, 3)`, training labels `(50000, 100)`, testing images `(10000, 28, 28, 3)`, and testing labels `(10000, 100)`."
      ]
    },
    {
      "cell_type": "code",
      "execution_count": null,
      "metadata": {
        "colab": {
          "base_uri": "https://localhost:8080/"
        },
        "id": "AxQU4tYwfMH8",
        "outputId": "06c0c071-4783-4843-9f96-c3ee4cac113c"
      },
      "outputs": [
        {
          "name": "stdout",
          "output_type": "stream",
          "text": [
            "Training images shape: (50000, 28, 28, 3)\n",
            "Testing images shape: (10000, 28, 28, 3)\n",
            "Training labels shape: (50000, 100)\n",
            "Testing labels shape: (10000, 100)\n"
          ]
        }
      ],
      "source": [
        "print(\"Training images shape:\", cifar100_train_images_reshaped.shape)\n",
        "print(\"Testing images shape:\", cifar100_test_images_reshaped.shape)\n",
        "print(\"Training labels shape:\", train_labels_one_hot.shape)\n",
        "print(\"Testing labels shape:\", test_labels_one_hot.shape)"
      ]
    },
    {
      "cell_type": "markdown",
      "metadata": {
        "id": "OupKlwY_kBr6"
      },
      "source": [
        "### 2. Model Building:\n",
        "\n",
        "###2.1 Basic ANN Building:\n",
        "\n",
        "- **Flatten (28×28→784)** → 0 params  \n",
        "- **Dense (128, ReLU)** → 100,480 params  \n",
        "- **Dense (64, ReLU)** → 8,256 params  \n",
        "- **Dense (10, Softmax)** → 650 params  \n",
        "\n",
        "**Total params:** ~109K  "
      ]
    },
    {
      "cell_type": "markdown",
      "metadata": {
        "id": "3fded203"
      },
      "source": [
        "### 2. Model Building:\n",
        "\n",
        "###2.1 Basic ANN Building:\n",
        "\n",
        "- **Flatten (28×28×3→2352)** → 0 params\n",
        "- **Dense (128, ReLU)** → 301,184 params\n",
        "- **Dense (64, ReLU)** → 8,256 params\n",
        "- **Dense (100, Softmax)** → 6,500 params\n",
        "\n",
        "**Total params:** ~316K"
      ]
    },
    {
      "cell_type": "code",
      "execution_count": null,
      "metadata": {
        "colab": {
          "base_uri": "https://localhost:8080/"
        },
        "id": "Qvx6jWEofhSh",
        "outputId": "09e164df-97e5-4435-a828-b9a21e3686f3"
      },
      "outputs": [
        {
          "name": "stderr",
          "output_type": "stream",
          "text": [
            "/usr/local/lib/python3.12/dist-packages/keras/src/layers/reshaping/flatten.py:37: UserWarning: Do not pass an `input_shape`/`input_dim` argument to a layer. When using Sequential models, prefer using an `Input(shape)` object as the first layer in the model instead.\n",
            "  super().__init__(**kwargs)\n"
          ]
        }
      ],
      "source": [
        "ann_model = keras.Sequential([\n",
        "    keras.layers.Flatten(input_shape=(28, 28, 3)),\n",
        "    keras.layers.Dense(128, activation='relu'),\n",
        "    keras.layers.Dense(64, activation='relu'),\n",
        "    keras.layers.Dense(100, activation='softmax')  # Changed to 100 for CIFAR-100\n",
        "])\n",
        "\n",
        "ann_model.compile(optimizer='adam',\n",
        "                  loss='categorical_crossentropy',\n",
        "                  metrics=['accuracy'])\n"
      ]
    },
    {
      "cell_type": "code",
      "execution_count": null,
      "metadata": {
        "colab": {
          "base_uri": "https://localhost:8080/",
          "height": 257
        },
        "id": "36dsUk6mfja9",
        "outputId": "1b4e54fe-58b6-45a3-ad2b-c0c381943a54"
      },
      "outputs": [
        {
          "data": {
            "text/html": [
              "<pre style=\"white-space:pre;overflow-x:auto;line-height:normal;font-family:Menlo,'DejaVu Sans Mono',consolas,'Courier New',monospace\"><span style=\"font-weight: bold\">Model: \"sequential_1\"</span>\n",
              "</pre>\n"
            ],
            "text/plain": [
              "\u001b[1mModel: \"sequential_1\"\u001b[0m\n"
            ]
          },
          "metadata": {},
          "output_type": "display_data"
        },
        {
          "data": {
            "text/html": [
              "<pre style=\"white-space:pre;overflow-x:auto;line-height:normal;font-family:Menlo,'DejaVu Sans Mono',consolas,'Courier New',monospace\">┏━━━━━━━━━━━━━━━━━━━━━━━━━━━━━━━━━┳━━━━━━━━━━━━━━━━━━━━━━━━┳━━━━━━━━━━━━━━━┓\n",
              "┃<span style=\"font-weight: bold\"> Layer (type)                    </span>┃<span style=\"font-weight: bold\"> Output Shape           </span>┃<span style=\"font-weight: bold\">       Param # </span>┃\n",
              "┡━━━━━━━━━━━━━━━━━━━━━━━━━━━━━━━━━╇━━━━━━━━━━━━━━━━━━━━━━━━╇━━━━━━━━━━━━━━━┩\n",
              "│ flatten_1 (<span style=\"color: #0087ff; text-decoration-color: #0087ff\">Flatten</span>)             │ (<span style=\"color: #00d7ff; text-decoration-color: #00d7ff\">None</span>, <span style=\"color: #00af00; text-decoration-color: #00af00\">2352</span>)           │             <span style=\"color: #00af00; text-decoration-color: #00af00\">0</span> │\n",
              "├─────────────────────────────────┼────────────────────────┼───────────────┤\n",
              "│ dense_3 (<span style=\"color: #0087ff; text-decoration-color: #0087ff\">Dense</span>)                 │ (<span style=\"color: #00d7ff; text-decoration-color: #00d7ff\">None</span>, <span style=\"color: #00af00; text-decoration-color: #00af00\">128</span>)            │       <span style=\"color: #00af00; text-decoration-color: #00af00\">301,184</span> │\n",
              "├─────────────────────────────────┼────────────────────────┼───────────────┤\n",
              "│ dense_4 (<span style=\"color: #0087ff; text-decoration-color: #0087ff\">Dense</span>)                 │ (<span style=\"color: #00d7ff; text-decoration-color: #00d7ff\">None</span>, <span style=\"color: #00af00; text-decoration-color: #00af00\">64</span>)             │         <span style=\"color: #00af00; text-decoration-color: #00af00\">8,256</span> │\n",
              "├─────────────────────────────────┼────────────────────────┼───────────────┤\n",
              "│ dense_5 (<span style=\"color: #0087ff; text-decoration-color: #0087ff\">Dense</span>)                 │ (<span style=\"color: #00d7ff; text-decoration-color: #00d7ff\">None</span>, <span style=\"color: #00af00; text-decoration-color: #00af00\">100</span>)            │         <span style=\"color: #00af00; text-decoration-color: #00af00\">6,500</span> │\n",
              "└─────────────────────────────────┴────────────────────────┴───────────────┘\n",
              "</pre>\n"
            ],
            "text/plain": [
              "┏━━━━━━━━━━━━━━━━━━━━━━━━━━━━━━━━━┳━━━━━━━━━━━━━━━━━━━━━━━━┳━━━━━━━━━━━━━━━┓\n",
              "┃\u001b[1m \u001b[0m\u001b[1mLayer (type)                   \u001b[0m\u001b[1m \u001b[0m┃\u001b[1m \u001b[0m\u001b[1mOutput Shape          \u001b[0m\u001b[1m \u001b[0m┃\u001b[1m \u001b[0m\u001b[1m      Param #\u001b[0m\u001b[1m \u001b[0m┃\n",
              "┡━━━━━━━━━━━━━━━━━━━━━━━━━━━━━━━━━╇━━━━━━━━━━━━━━━━━━━━━━━━╇━━━━━━━━━━━━━━━┩\n",
              "│ flatten_1 (\u001b[38;5;33mFlatten\u001b[0m)             │ (\u001b[38;5;45mNone\u001b[0m, \u001b[38;5;34m2352\u001b[0m)           │             \u001b[38;5;34m0\u001b[0m │\n",
              "├─────────────────────────────────┼────────────────────────┼───────────────┤\n",
              "│ dense_3 (\u001b[38;5;33mDense\u001b[0m)                 │ (\u001b[38;5;45mNone\u001b[0m, \u001b[38;5;34m128\u001b[0m)            │       \u001b[38;5;34m301,184\u001b[0m │\n",
              "├─────────────────────────────────┼────────────────────────┼───────────────┤\n",
              "│ dense_4 (\u001b[38;5;33mDense\u001b[0m)                 │ (\u001b[38;5;45mNone\u001b[0m, \u001b[38;5;34m64\u001b[0m)             │         \u001b[38;5;34m8,256\u001b[0m │\n",
              "├─────────────────────────────────┼────────────────────────┼───────────────┤\n",
              "│ dense_5 (\u001b[38;5;33mDense\u001b[0m)                 │ (\u001b[38;5;45mNone\u001b[0m, \u001b[38;5;34m100\u001b[0m)            │         \u001b[38;5;34m6,500\u001b[0m │\n",
              "└─────────────────────────────────┴────────────────────────┴───────────────┘\n"
            ]
          },
          "metadata": {},
          "output_type": "display_data"
        },
        {
          "data": {
            "text/html": [
              "<pre style=\"white-space:pre;overflow-x:auto;line-height:normal;font-family:Menlo,'DejaVu Sans Mono',consolas,'Courier New',monospace\"><span style=\"font-weight: bold\"> Total params: </span><span style=\"color: #00af00; text-decoration-color: #00af00\">315,940</span> (1.21 MB)\n",
              "</pre>\n"
            ],
            "text/plain": [
              "\u001b[1m Total params: \u001b[0m\u001b[38;5;34m315,940\u001b[0m (1.21 MB)\n"
            ]
          },
          "metadata": {},
          "output_type": "display_data"
        },
        {
          "data": {
            "text/html": [
              "<pre style=\"white-space:pre;overflow-x:auto;line-height:normal;font-family:Menlo,'DejaVu Sans Mono',consolas,'Courier New',monospace\"><span style=\"font-weight: bold\"> Trainable params: </span><span style=\"color: #00af00; text-decoration-color: #00af00\">315,940</span> (1.21 MB)\n",
              "</pre>\n"
            ],
            "text/plain": [
              "\u001b[1m Trainable params: \u001b[0m\u001b[38;5;34m315,940\u001b[0m (1.21 MB)\n"
            ]
          },
          "metadata": {},
          "output_type": "display_data"
        },
        {
          "data": {
            "text/html": [
              "<pre style=\"white-space:pre;overflow-x:auto;line-height:normal;font-family:Menlo,'DejaVu Sans Mono',consolas,'Courier New',monospace\"><span style=\"font-weight: bold\"> Non-trainable params: </span><span style=\"color: #00af00; text-decoration-color: #00af00\">0</span> (0.00 B)\n",
              "</pre>\n"
            ],
            "text/plain": [
              "\u001b[1m Non-trainable params: \u001b[0m\u001b[38;5;34m0\u001b[0m (0.00 B)\n"
            ]
          },
          "metadata": {},
          "output_type": "display_data"
        }
      ],
      "source": [
        "ann_model.summary()"
      ]
    },
    {
      "cell_type": "markdown",
      "metadata": {
        "id": "5KJvCj7rkivy"
      },
      "source": [
        "### 2.2 Basic CNN Model:\n",
        "\n",
        "- **Conv2D (32, 3×3) + MaxPool** → 320 params  \n",
        "- **Conv2D (64, 3×3) + MaxPool** → 18,496 params  \n",
        "- **Flatten**  \n",
        "- **Dense (64, ReLU)** → 102,464 params  \n",
        "- **Dense (10, Softmax)** → 650 params  \n",
        "\n",
        "**Total params:** ~121K  "
      ]
    },
    {
      "cell_type": "code",
      "execution_count": null,
      "metadata": {
        "colab": {
          "base_uri": "https://localhost:8080/"
        },
        "id": "n2bD892sf3mf",
        "outputId": "7b782875-c355-4e4b-c0ee-622e206577bb"
      },
      "outputs": [
        {
          "name": "stderr",
          "output_type": "stream",
          "text": [
            "/usr/local/lib/python3.12/dist-packages/keras/src/layers/convolutional/base_conv.py:113: UserWarning: Do not pass an `input_shape`/`input_dim` argument to a layer. When using Sequential models, prefer using an `Input(shape)` object as the first layer in the model instead.\n",
            "  super().__init__(activity_regularizer=activity_regularizer, **kwargs)\n"
          ]
        }
      ],
      "source": [
        "basic_cnn_model = keras.Sequential([\n",
        "    keras.layers.Conv2D(32, (3, 3), activation='relu', input_shape=(28, 28, 3)),\n",
        "    keras.layers.MaxPooling2D((2, 2)),\n",
        "    keras.layers.Conv2D(64, (3, 3), activation='relu'),\n",
        "    keras.layers.MaxPooling2D((2, 2)),\n",
        "    keras.layers.Flatten(),\n",
        "    keras.layers.Dense(64, activation='relu'),\n",
        "    keras.layers.Dense(100, activation='softmax') # Changed to 100 for CIFAR-100\n",
        "])\n",
        "\n",
        "\n",
        "basic_cnn_model.compile(optimizer='adam',\n",
        "                        loss='categorical_crossentropy',\n",
        "                        metrics=['accuracy'])"
      ]
    },
    {
      "cell_type": "code",
      "execution_count": null,
      "metadata": {
        "colab": {
          "base_uri": "https://localhost:8080/",
          "height": 353
        },
        "id": "4U7fXeA6f660",
        "outputId": "91ee5cf4-6f93-4d81-a265-353dc9f3b6ee"
      },
      "outputs": [
        {
          "data": {
            "text/html": [
              "<pre style=\"white-space:pre;overflow-x:auto;line-height:normal;font-family:Menlo,'DejaVu Sans Mono',consolas,'Courier New',monospace\"><span style=\"font-weight: bold\">Model: \"sequential_3\"</span>\n",
              "</pre>\n"
            ],
            "text/plain": [
              "\u001b[1mModel: \"sequential_3\"\u001b[0m\n"
            ]
          },
          "metadata": {},
          "output_type": "display_data"
        },
        {
          "data": {
            "text/html": [
              "<pre style=\"white-space:pre;overflow-x:auto;line-height:normal;font-family:Menlo,'DejaVu Sans Mono',consolas,'Courier New',monospace\">┏━━━━━━━━━━━━━━━━━━━━━━━━━━━━━━━━━┳━━━━━━━━━━━━━━━━━━━━━━━━┳━━━━━━━━━━━━━━━┓\n",
              "┃<span style=\"font-weight: bold\"> Layer (type)                    </span>┃<span style=\"font-weight: bold\"> Output Shape           </span>┃<span style=\"font-weight: bold\">       Param # </span>┃\n",
              "┡━━━━━━━━━━━━━━━━━━━━━━━━━━━━━━━━━╇━━━━━━━━━━━━━━━━━━━━━━━━╇━━━━━━━━━━━━━━━┩\n",
              "│ conv2d_2 (<span style=\"color: #0087ff; text-decoration-color: #0087ff\">Conv2D</span>)               │ (<span style=\"color: #00d7ff; text-decoration-color: #00d7ff\">None</span>, <span style=\"color: #00af00; text-decoration-color: #00af00\">26</span>, <span style=\"color: #00af00; text-decoration-color: #00af00\">26</span>, <span style=\"color: #00af00; text-decoration-color: #00af00\">32</span>)     │           <span style=\"color: #00af00; text-decoration-color: #00af00\">896</span> │\n",
              "├─────────────────────────────────┼────────────────────────┼───────────────┤\n",
              "│ max_pooling2d_2 (<span style=\"color: #0087ff; text-decoration-color: #0087ff\">MaxPooling2D</span>)  │ (<span style=\"color: #00d7ff; text-decoration-color: #00d7ff\">None</span>, <span style=\"color: #00af00; text-decoration-color: #00af00\">13</span>, <span style=\"color: #00af00; text-decoration-color: #00af00\">13</span>, <span style=\"color: #00af00; text-decoration-color: #00af00\">32</span>)     │             <span style=\"color: #00af00; text-decoration-color: #00af00\">0</span> │\n",
              "├─────────────────────────────────┼────────────────────────┼───────────────┤\n",
              "│ conv2d_3 (<span style=\"color: #0087ff; text-decoration-color: #0087ff\">Conv2D</span>)               │ (<span style=\"color: #00d7ff; text-decoration-color: #00d7ff\">None</span>, <span style=\"color: #00af00; text-decoration-color: #00af00\">11</span>, <span style=\"color: #00af00; text-decoration-color: #00af00\">11</span>, <span style=\"color: #00af00; text-decoration-color: #00af00\">64</span>)     │        <span style=\"color: #00af00; text-decoration-color: #00af00\">18,496</span> │\n",
              "├─────────────────────────────────┼────────────────────────┼───────────────┤\n",
              "│ max_pooling2d_3 (<span style=\"color: #0087ff; text-decoration-color: #0087ff\">MaxPooling2D</span>)  │ (<span style=\"color: #00d7ff; text-decoration-color: #00d7ff\">None</span>, <span style=\"color: #00af00; text-decoration-color: #00af00\">5</span>, <span style=\"color: #00af00; text-decoration-color: #00af00\">5</span>, <span style=\"color: #00af00; text-decoration-color: #00af00\">64</span>)       │             <span style=\"color: #00af00; text-decoration-color: #00af00\">0</span> │\n",
              "├─────────────────────────────────┼────────────────────────┼───────────────┤\n",
              "│ flatten_3 (<span style=\"color: #0087ff; text-decoration-color: #0087ff\">Flatten</span>)             │ (<span style=\"color: #00d7ff; text-decoration-color: #00d7ff\">None</span>, <span style=\"color: #00af00; text-decoration-color: #00af00\">1600</span>)           │             <span style=\"color: #00af00; text-decoration-color: #00af00\">0</span> │\n",
              "├─────────────────────────────────┼────────────────────────┼───────────────┤\n",
              "│ dense_8 (<span style=\"color: #0087ff; text-decoration-color: #0087ff\">Dense</span>)                 │ (<span style=\"color: #00d7ff; text-decoration-color: #00d7ff\">None</span>, <span style=\"color: #00af00; text-decoration-color: #00af00\">64</span>)             │       <span style=\"color: #00af00; text-decoration-color: #00af00\">102,464</span> │\n",
              "├─────────────────────────────────┼────────────────────────┼───────────────┤\n",
              "│ dense_9 (<span style=\"color: #0087ff; text-decoration-color: #0087ff\">Dense</span>)                 │ (<span style=\"color: #00d7ff; text-decoration-color: #00d7ff\">None</span>, <span style=\"color: #00af00; text-decoration-color: #00af00\">100</span>)            │         <span style=\"color: #00af00; text-decoration-color: #00af00\">6,500</span> │\n",
              "└─────────────────────────────────┴────────────────────────┴───────────────┘\n",
              "</pre>\n"
            ],
            "text/plain": [
              "┏━━━━━━━━━━━━━━━━━━━━━━━━━━━━━━━━━┳━━━━━━━━━━━━━━━━━━━━━━━━┳━━━━━━━━━━━━━━━┓\n",
              "┃\u001b[1m \u001b[0m\u001b[1mLayer (type)                   \u001b[0m\u001b[1m \u001b[0m┃\u001b[1m \u001b[0m\u001b[1mOutput Shape          \u001b[0m\u001b[1m \u001b[0m┃\u001b[1m \u001b[0m\u001b[1m      Param #\u001b[0m\u001b[1m \u001b[0m┃\n",
              "┡━━━━━━━━━━━━━━━━━━━━━━━━━━━━━━━━━╇━━━━━━━━━━━━━━━━━━━━━━━━╇━━━━━━━━━━━━━━━┩\n",
              "│ conv2d_2 (\u001b[38;5;33mConv2D\u001b[0m)               │ (\u001b[38;5;45mNone\u001b[0m, \u001b[38;5;34m26\u001b[0m, \u001b[38;5;34m26\u001b[0m, \u001b[38;5;34m32\u001b[0m)     │           \u001b[38;5;34m896\u001b[0m │\n",
              "├─────────────────────────────────┼────────────────────────┼───────────────┤\n",
              "│ max_pooling2d_2 (\u001b[38;5;33mMaxPooling2D\u001b[0m)  │ (\u001b[38;5;45mNone\u001b[0m, \u001b[38;5;34m13\u001b[0m, \u001b[38;5;34m13\u001b[0m, \u001b[38;5;34m32\u001b[0m)     │             \u001b[38;5;34m0\u001b[0m │\n",
              "├─────────────────────────────────┼────────────────────────┼───────────────┤\n",
              "│ conv2d_3 (\u001b[38;5;33mConv2D\u001b[0m)               │ (\u001b[38;5;45mNone\u001b[0m, \u001b[38;5;34m11\u001b[0m, \u001b[38;5;34m11\u001b[0m, \u001b[38;5;34m64\u001b[0m)     │        \u001b[38;5;34m18,496\u001b[0m │\n",
              "├─────────────────────────────────┼────────────────────────┼───────────────┤\n",
              "│ max_pooling2d_3 (\u001b[38;5;33mMaxPooling2D\u001b[0m)  │ (\u001b[38;5;45mNone\u001b[0m, \u001b[38;5;34m5\u001b[0m, \u001b[38;5;34m5\u001b[0m, \u001b[38;5;34m64\u001b[0m)       │             \u001b[38;5;34m0\u001b[0m │\n",
              "├─────────────────────────────────┼────────────────────────┼───────────────┤\n",
              "│ flatten_3 (\u001b[38;5;33mFlatten\u001b[0m)             │ (\u001b[38;5;45mNone\u001b[0m, \u001b[38;5;34m1600\u001b[0m)           │             \u001b[38;5;34m0\u001b[0m │\n",
              "├─────────────────────────────────┼────────────────────────┼───────────────┤\n",
              "│ dense_8 (\u001b[38;5;33mDense\u001b[0m)                 │ (\u001b[38;5;45mNone\u001b[0m, \u001b[38;5;34m64\u001b[0m)             │       \u001b[38;5;34m102,464\u001b[0m │\n",
              "├─────────────────────────────────┼────────────────────────┼───────────────┤\n",
              "│ dense_9 (\u001b[38;5;33mDense\u001b[0m)                 │ (\u001b[38;5;45mNone\u001b[0m, \u001b[38;5;34m100\u001b[0m)            │         \u001b[38;5;34m6,500\u001b[0m │\n",
              "└─────────────────────────────────┴────────────────────────┴───────────────┘\n"
            ]
          },
          "metadata": {},
          "output_type": "display_data"
        },
        {
          "data": {
            "text/html": [
              "<pre style=\"white-space:pre;overflow-x:auto;line-height:normal;font-family:Menlo,'DejaVu Sans Mono',consolas,'Courier New',monospace\"><span style=\"font-weight: bold\"> Total params: </span><span style=\"color: #00af00; text-decoration-color: #00af00\">128,356</span> (501.39 KB)\n",
              "</pre>\n"
            ],
            "text/plain": [
              "\u001b[1m Total params: \u001b[0m\u001b[38;5;34m128,356\u001b[0m (501.39 KB)\n"
            ]
          },
          "metadata": {},
          "output_type": "display_data"
        },
        {
          "data": {
            "text/html": [
              "<pre style=\"white-space:pre;overflow-x:auto;line-height:normal;font-family:Menlo,'DejaVu Sans Mono',consolas,'Courier New',monospace\"><span style=\"font-weight: bold\"> Trainable params: </span><span style=\"color: #00af00; text-decoration-color: #00af00\">128,356</span> (501.39 KB)\n",
              "</pre>\n"
            ],
            "text/plain": [
              "\u001b[1m Trainable params: \u001b[0m\u001b[38;5;34m128,356\u001b[0m (501.39 KB)\n"
            ]
          },
          "metadata": {},
          "output_type": "display_data"
        },
        {
          "data": {
            "text/html": [
              "<pre style=\"white-space:pre;overflow-x:auto;line-height:normal;font-family:Menlo,'DejaVu Sans Mono',consolas,'Courier New',monospace\"><span style=\"font-weight: bold\"> Non-trainable params: </span><span style=\"color: #00af00; text-decoration-color: #00af00\">0</span> (0.00 B)\n",
              "</pre>\n"
            ],
            "text/plain": [
              "\u001b[1m Non-trainable params: \u001b[0m\u001b[38;5;34m0\u001b[0m (0.00 B)\n"
            ]
          },
          "metadata": {},
          "output_type": "display_data"
        }
      ],
      "source": [
        "basic_cnn_model.summary()"
      ]
    },
    {
      "cell_type": "code",
      "source": [
        "from tensorflow.keras.callbacks import EarlyStopping, ModelCheckpoint\n",
        "\n",
        "checkpoint_cb = ModelCheckpoint(\"best_cifar100_model.h5\", save_best_only=True)\n",
        "earlystop_cb = EarlyStopping(patience=5, restore_best_weights=True)\n",
        "\n"
      ],
      "metadata": {
        "id": "cExjVlJb6nmu"
      },
      "execution_count": 75,
      "outputs": []
    },
    {
      "cell_type": "markdown",
      "metadata": {
        "id": "KyUZew6z_0vi"
      },
      "source": [
        "### 3. Training the Models\n",
        "\n",
        "### 3.1 Training the ANN Model:\n",
        "\n",
        "- **EarlyStopping**: monitors validation loss, stops if no improvement for 5 epochs, restores best weights.  \n",
        "- **ModelCheckpoint**: saves best ANN weights (`best_ann_model_weights.weights.h5`) based on validation loss.  \n",
        "- **Training**:  \n",
        "  - Epochs: up to 30 (early stopping controls actual run)  \n",
        "  - Batch size: 64  \n",
        "  - Validation on test set  \n",
        "  - Callbacks: EarlyStopping + ModelCheckpoint  "
      ]
    },
    {
      "cell_type": "code",
      "execution_count": null,
      "metadata": {
        "colab": {
          "base_uri": "https://localhost:8080/"
        },
        "id": "BuaXYOqwAVOq",
        "outputId": "4f63158d-97b5-4d5a-83ce-f45fb9a55391"
      },
      "outputs": [
        {
          "name": "stdout",
          "output_type": "stream",
          "text": [
            "Training ANN model...\n",
            "Epoch 1/30\n",
            "\u001b[1m778/782\u001b[0m \u001b[32m━━━━━━━━━━━━━━━━━━━\u001b[0m\u001b[37m━\u001b[0m \u001b[1m0s\u001b[0m 8ms/step - accuracy: 0.0177 - loss: 4.5500\n",
            "Epoch 1: val_loss improved from inf to 4.14957, saving model to best_ann_model_weights.weights.h5\n",
            "\u001b[1m782/782\u001b[0m \u001b[32m━━━━━━━━━━━━━━━━━━━━\u001b[0m\u001b[37m\u001b[0m \u001b[1m9s\u001b[0m 9ms/step - accuracy: 0.0178 - loss: 4.5492 - val_accuracy: 0.0650 - val_loss: 4.1496\n",
            "Epoch 2/30\n",
            "\u001b[1m775/782\u001b[0m \u001b[32m━━━━━━━━━━━━━━━━━━━\u001b[0m\u001b[37m━\u001b[0m \u001b[1m0s\u001b[0m 7ms/step - accuracy: 0.0734 - loss: 4.0988\n",
            "Epoch 2: val_loss improved from 4.14957 to 4.01391, saving model to best_ann_model_weights.weights.h5\n",
            "\u001b[1m782/782\u001b[0m \u001b[32m━━━━━━━━━━━━━━━━━━━━\u001b[0m\u001b[37m\u001b[0m \u001b[1m9s\u001b[0m 8ms/step - accuracy: 0.0734 - loss: 4.0984 - val_accuracy: 0.0844 - val_loss: 4.0139\n",
            "Epoch 3/30\n",
            "\u001b[1m779/782\u001b[0m \u001b[32m━━━━━━━━━━━━━━━━━━━\u001b[0m\u001b[37m━\u001b[0m \u001b[1m0s\u001b[0m 9ms/step - accuracy: 0.0847 - loss: 3.9924\n",
            "Epoch 3: val_loss improved from 4.01391 to 3.95747, saving model to best_ann_model_weights.weights.h5\n",
            "\u001b[1m782/782\u001b[0m \u001b[32m━━━━━━━━━━━━━━━━━━━━\u001b[0m\u001b[37m\u001b[0m \u001b[1m7s\u001b[0m 9ms/step - accuracy: 0.0847 - loss: 3.9923 - val_accuracy: 0.0913 - val_loss: 3.9575\n",
            "Epoch 4/30\n",
            "\u001b[1m782/782\u001b[0m \u001b[32m━━━━━━━━━━━━━━━━━━━━\u001b[0m\u001b[37m\u001b[0m \u001b[1m0s\u001b[0m 7ms/step - accuracy: 0.0921 - loss: 3.9329\n",
            "Epoch 4: val_loss improved from 3.95747 to 3.92118, saving model to best_ann_model_weights.weights.h5\n",
            "\u001b[1m782/782\u001b[0m \u001b[32m━━━━━━━━━━━━━━━━━━━━\u001b[0m\u001b[37m\u001b[0m \u001b[1m6s\u001b[0m 8ms/step - accuracy: 0.0921 - loss: 3.9329 - val_accuracy: 0.1008 - val_loss: 3.9212\n",
            "Epoch 5/30\n",
            "\u001b[1m778/782\u001b[0m \u001b[32m━━━━━━━━━━━━━━━━━━━\u001b[0m\u001b[37m━\u001b[0m \u001b[1m0s\u001b[0m 8ms/step - accuracy: 0.0983 - loss: 3.9073\n",
            "Epoch 5: val_loss improved from 3.92118 to 3.88941, saving model to best_ann_model_weights.weights.h5\n",
            "\u001b[1m782/782\u001b[0m \u001b[32m━━━━━━━━━━━━━━━━━━━━\u001b[0m\u001b[37m\u001b[0m \u001b[1m11s\u001b[0m 9ms/step - accuracy: 0.0983 - loss: 3.9073 - val_accuracy: 0.1044 - val_loss: 3.8894\n",
            "Epoch 6/30\n",
            "\u001b[1m781/782\u001b[0m \u001b[32m━━━━━━━━━━━━━━━━━━━\u001b[0m\u001b[37m━\u001b[0m \u001b[1m0s\u001b[0m 8ms/step - accuracy: 0.1045 - loss: 3.8638\n",
            "Epoch 6: val_loss improved from 3.88941 to 3.85207, saving model to best_ann_model_weights.weights.h5\n",
            "\u001b[1m782/782\u001b[0m \u001b[32m━━━━━━━━━━━━━━━━━━━━\u001b[0m\u001b[37m\u001b[0m \u001b[1m10s\u001b[0m 9ms/step - accuracy: 0.1045 - loss: 3.8638 - val_accuracy: 0.1048 - val_loss: 3.8521\n",
            "Epoch 7/30\n",
            "\u001b[1m782/782\u001b[0m \u001b[32m━━━━━━━━━━━━━━━━━━━━\u001b[0m\u001b[37m\u001b[0m \u001b[1m0s\u001b[0m 8ms/step - accuracy: 0.1082 - loss: 3.8338\n",
            "Epoch 7: val_loss improved from 3.85207 to 3.82560, saving model to best_ann_model_weights.weights.h5\n",
            "\u001b[1m782/782\u001b[0m \u001b[32m━━━━━━━━━━━━━━━━━━━━\u001b[0m\u001b[37m\u001b[0m \u001b[1m8s\u001b[0m 10ms/step - accuracy: 0.1082 - loss: 3.8337 - val_accuracy: 0.1134 - val_loss: 3.8256\n",
            "Epoch 8/30\n",
            "\u001b[1m779/782\u001b[0m \u001b[32m━━━━━━━━━━━━━━━━━━━\u001b[0m\u001b[37m━\u001b[0m \u001b[1m0s\u001b[0m 8ms/step - accuracy: 0.1139 - loss: 3.7981\n",
            "Epoch 8: val_loss improved from 3.82560 to 3.78910, saving model to best_ann_model_weights.weights.h5\n",
            "\u001b[1m782/782\u001b[0m \u001b[32m━━━━━━━━━━━━━━━━━━━━\u001b[0m\u001b[37m\u001b[0m \u001b[1m7s\u001b[0m 9ms/step - accuracy: 0.1139 - loss: 3.7981 - val_accuracy: 0.1212 - val_loss: 3.7891\n",
            "Epoch 9/30\n",
            "\u001b[1m778/782\u001b[0m \u001b[32m━━━━━━━━━━━━━━━━━━━\u001b[0m\u001b[37m━\u001b[0m \u001b[1m0s\u001b[0m 8ms/step - accuracy: 0.1212 - loss: 3.7637\n",
            "Epoch 9: val_loss improved from 3.78910 to 3.75708, saving model to best_ann_model_weights.weights.h5\n",
            "\u001b[1m782/782\u001b[0m \u001b[32m━━━━━━━━━━━━━━━━━━━━\u001b[0m\u001b[37m\u001b[0m \u001b[1m11s\u001b[0m 9ms/step - accuracy: 0.1212 - loss: 3.7636 - val_accuracy: 0.1295 - val_loss: 3.7571\n",
            "Epoch 10/30\n",
            "\u001b[1m776/782\u001b[0m \u001b[32m━━━━━━━━━━━━━━━━━━━\u001b[0m\u001b[37m━\u001b[0m \u001b[1m0s\u001b[0m 9ms/step - accuracy: 0.1283 - loss: 3.7352\n",
            "Epoch 10: val_loss improved from 3.75708 to 3.72955, saving model to best_ann_model_weights.weights.h5\n",
            "\u001b[1m782/782\u001b[0m \u001b[32m━━━━━━━━━━━━━━━━━━━━\u001b[0m\u001b[37m\u001b[0m \u001b[1m9s\u001b[0m 11ms/step - accuracy: 0.1283 - loss: 3.7351 - val_accuracy: 0.1354 - val_loss: 3.7296\n",
            "Epoch 11/30\n",
            "\u001b[1m779/782\u001b[0m \u001b[32m━━━━━━━━━━━━━━━━━━━\u001b[0m\u001b[37m━\u001b[0m \u001b[1m0s\u001b[0m 8ms/step - accuracy: 0.1336 - loss: 3.7022\n",
            "Epoch 11: val_loss improved from 3.72955 to 3.70444, saving model to best_ann_model_weights.weights.h5\n",
            "\u001b[1m782/782\u001b[0m \u001b[32m━━━━━━━━━━━━━━━━━━━━\u001b[0m\u001b[37m\u001b[0m \u001b[1m7s\u001b[0m 9ms/step - accuracy: 0.1336 - loss: 3.7022 - val_accuracy: 0.1411 - val_loss: 3.7044\n",
            "Epoch 12/30\n",
            "\u001b[1m781/782\u001b[0m \u001b[32m━━━━━━━━━━━━━━━━━━━\u001b[0m\u001b[37m━\u001b[0m \u001b[1m0s\u001b[0m 9ms/step - accuracy: 0.1400 - loss: 3.6705\n",
            "Epoch 12: val_loss improved from 3.70444 to 3.67728, saving model to best_ann_model_weights.weights.h5\n",
            "\u001b[1m782/782\u001b[0m \u001b[32m━━━━━━━━━━━━━━━━━━━━\u001b[0m\u001b[37m\u001b[0m \u001b[1m8s\u001b[0m 10ms/step - accuracy: 0.1400 - loss: 3.6705 - val_accuracy: 0.1445 - val_loss: 3.6773\n",
            "Epoch 13/30\n",
            "\u001b[1m776/782\u001b[0m \u001b[32m━━━━━━━━━━━━━━━━━━━\u001b[0m\u001b[37m━\u001b[0m \u001b[1m0s\u001b[0m 9ms/step - accuracy: 0.1457 - loss: 3.6478\n",
            "Epoch 13: val_loss improved from 3.67728 to 3.65266, saving model to best_ann_model_weights.weights.h5\n",
            "\u001b[1m782/782\u001b[0m \u001b[32m━━━━━━━━━━━━━━━━━━━━\u001b[0m\u001b[37m\u001b[0m \u001b[1m10s\u001b[0m 10ms/step - accuracy: 0.1457 - loss: 3.6477 - val_accuracy: 0.1477 - val_loss: 3.6527\n",
            "Epoch 14/30\n",
            "\u001b[1m777/782\u001b[0m \u001b[32m━━━━━━━━━━━━━━━━━━━\u001b[0m\u001b[37m━\u001b[0m \u001b[1m0s\u001b[0m 8ms/step - accuracy: 0.1483 - loss: 3.6241\n",
            "Epoch 14: val_loss improved from 3.65266 to 3.63827, saving model to best_ann_model_weights.weights.h5\n",
            "\u001b[1m782/782\u001b[0m \u001b[32m━━━━━━━━━━━━━━━━━━━━\u001b[0m\u001b[37m\u001b[0m \u001b[1m10s\u001b[0m 10ms/step - accuracy: 0.1483 - loss: 3.6241 - val_accuracy: 0.1522 - val_loss: 3.6383\n",
            "Epoch 15/30\n",
            "\u001b[1m777/782\u001b[0m \u001b[32m━━━━━━━━━━━━━━━━━━━\u001b[0m\u001b[37m━\u001b[0m \u001b[1m0s\u001b[0m 8ms/step - accuracy: 0.1543 - loss: 3.5954\n",
            "Epoch 15: val_loss improved from 3.63827 to 3.63145, saving model to best_ann_model_weights.weights.h5\n",
            "\u001b[1m782/782\u001b[0m \u001b[32m━━━━━━━━━━━━━━━━━━━━\u001b[0m\u001b[37m\u001b[0m \u001b[1m7s\u001b[0m 9ms/step - accuracy: 0.1542 - loss: 3.5955 - val_accuracy: 0.1510 - val_loss: 3.6314\n",
            "Epoch 16/30\n",
            "\u001b[1m779/782\u001b[0m \u001b[32m━━━━━━━━━━━━━━━━━━━\u001b[0m\u001b[37m━\u001b[0m \u001b[1m0s\u001b[0m 9ms/step - accuracy: 0.1543 - loss: 3.5811\n",
            "Epoch 16: val_loss improved from 3.63145 to 3.60207, saving model to best_ann_model_weights.weights.h5\n",
            "\u001b[1m782/782\u001b[0m \u001b[32m━━━━━━━━━━━━━━━━━━━━\u001b[0m\u001b[37m\u001b[0m \u001b[1m11s\u001b[0m 10ms/step - accuracy: 0.1543 - loss: 3.5811 - val_accuracy: 0.1567 - val_loss: 3.6021\n",
            "Epoch 17/30\n",
            "\u001b[1m781/782\u001b[0m \u001b[32m━━━━━━━━━━━━━━━━━━━\u001b[0m\u001b[37m━\u001b[0m \u001b[1m0s\u001b[0m 8ms/step - accuracy: 0.1582 - loss: 3.5624\n",
            "Epoch 17: val_loss improved from 3.60207 to 3.60027, saving model to best_ann_model_weights.weights.h5\n",
            "\u001b[1m782/782\u001b[0m \u001b[32m━━━━━━━━━━━━━━━━━━━━\u001b[0m\u001b[37m\u001b[0m \u001b[1m8s\u001b[0m 10ms/step - accuracy: 0.1582 - loss: 3.5624 - val_accuracy: 0.1541 - val_loss: 3.6003\n",
            "Epoch 18/30\n",
            "\u001b[1m780/782\u001b[0m \u001b[32m━━━━━━━━━━━━━━━━━━━\u001b[0m\u001b[37m━\u001b[0m \u001b[1m0s\u001b[0m 8ms/step - accuracy: 0.1608 - loss: 3.5527\n",
            "Epoch 18: val_loss improved from 3.60027 to 3.57932, saving model to best_ann_model_weights.weights.h5\n",
            "\u001b[1m782/782\u001b[0m \u001b[32m━━━━━━━━━━━━━━━━━━━━\u001b[0m\u001b[37m\u001b[0m \u001b[1m7s\u001b[0m 9ms/step - accuracy: 0.1608 - loss: 3.5527 - val_accuracy: 0.1614 - val_loss: 3.5793\n",
            "Epoch 19/30\n",
            "\u001b[1m776/782\u001b[0m \u001b[32m━━━━━━━━━━━━━━━━━━━\u001b[0m\u001b[37m━\u001b[0m \u001b[1m0s\u001b[0m 9ms/step - accuracy: 0.1621 - loss: 3.5314\n",
            "Epoch 19: val_loss improved from 3.57932 to 3.56983, saving model to best_ann_model_weights.weights.h5\n",
            "\u001b[1m782/782\u001b[0m \u001b[32m━━━━━━━━━━━━━━━━━━━━\u001b[0m\u001b[37m\u001b[0m \u001b[1m8s\u001b[0m 10ms/step - accuracy: 0.1621 - loss: 3.5314 - val_accuracy: 0.1597 - val_loss: 3.5698\n",
            "Epoch 20/30\n",
            "\u001b[1m782/782\u001b[0m \u001b[32m━━━━━━━━━━━━━━━━━━━━\u001b[0m\u001b[37m\u001b[0m \u001b[1m0s\u001b[0m 8ms/step - accuracy: 0.1658 - loss: 3.5220\n",
            "Epoch 20: val_loss improved from 3.56983 to 3.56140, saving model to best_ann_model_weights.weights.h5\n",
            "\u001b[1m782/782\u001b[0m \u001b[32m━━━━━━━━━━━━━━━━━━━━\u001b[0m\u001b[37m\u001b[0m \u001b[1m7s\u001b[0m 9ms/step - accuracy: 0.1658 - loss: 3.5220 - val_accuracy: 0.1620 - val_loss: 3.5614\n",
            "Epoch 21/30\n",
            "\u001b[1m776/782\u001b[0m \u001b[32m━━━━━━━━━━━━━━━━━━━\u001b[0m\u001b[37m━\u001b[0m \u001b[1m0s\u001b[0m 10ms/step - accuracy: 0.1670 - loss: 3.5065\n",
            "Epoch 21: val_loss improved from 3.56140 to 3.55536, saving model to best_ann_model_weights.weights.h5\n",
            "\u001b[1m782/782\u001b[0m \u001b[32m━━━━━━━━━━━━━━━━━━━━\u001b[0m\u001b[37m\u001b[0m \u001b[1m8s\u001b[0m 10ms/step - accuracy: 0.1670 - loss: 3.5066 - val_accuracy: 0.1639 - val_loss: 3.5554\n",
            "Epoch 22/30\n",
            "\u001b[1m779/782\u001b[0m \u001b[32m━━━━━━━━━━━━━━━━━━━\u001b[0m\u001b[37m━\u001b[0m \u001b[1m0s\u001b[0m 12ms/step - accuracy: 0.1729 - loss: 3.4970\n",
            "Epoch 22: val_loss improved from 3.55536 to 3.54912, saving model to best_ann_model_weights.weights.h5\n",
            "\u001b[1m782/782\u001b[0m \u001b[32m━━━━━━━━━━━━━━━━━━━━\u001b[0m\u001b[37m\u001b[0m \u001b[1m13s\u001b[0m 14ms/step - accuracy: 0.1729 - loss: 3.4970 - val_accuracy: 0.1648 - val_loss: 3.5491\n",
            "Epoch 23/30\n",
            "\u001b[1m776/782\u001b[0m \u001b[32m━━━━━━━━━━━━━━━━━━━\u001b[0m\u001b[37m━\u001b[0m \u001b[1m0s\u001b[0m 10ms/step - accuracy: 0.1706 - loss: 3.4919\n",
            "Epoch 23: val_loss did not improve from 3.54912\n",
            "\u001b[1m782/782\u001b[0m \u001b[32m━━━━━━━━━━━━━━━━━━━━\u001b[0m\u001b[37m\u001b[0m \u001b[1m18s\u001b[0m 11ms/step - accuracy: 0.1706 - loss: 3.4919 - val_accuracy: 0.1638 - val_loss: 3.5516\n",
            "Epoch 24/30\n",
            "\u001b[1m778/782\u001b[0m \u001b[32m━━━━━━━━━━━━━━━━━━━\u001b[0m\u001b[37m━\u001b[0m \u001b[1m0s\u001b[0m 10ms/step - accuracy: 0.1779 - loss: 3.4765\n",
            "Epoch 24: val_loss improved from 3.54912 to 3.52017, saving model to best_ann_model_weights.weights.h5\n",
            "\u001b[1m782/782\u001b[0m \u001b[32m━━━━━━━━━━━━━━━━━━━━\u001b[0m\u001b[37m\u001b[0m \u001b[1m12s\u001b[0m 12ms/step - accuracy: 0.1778 - loss: 3.4765 - val_accuracy: 0.1721 - val_loss: 3.5202\n",
            "Epoch 25/30\n",
            "\u001b[1m778/782\u001b[0m \u001b[32m━━━━━━━━━━━━━━━━━━━\u001b[0m\u001b[37m━\u001b[0m \u001b[1m0s\u001b[0m 12ms/step - accuracy: 0.1739 - loss: 3.4731\n",
            "Epoch 25: val_loss improved from 3.52017 to 3.51532, saving model to best_ann_model_weights.weights.h5\n",
            "\u001b[1m782/782\u001b[0m \u001b[32m━━━━━━━━━━━━━━━━━━━━\u001b[0m\u001b[37m\u001b[0m \u001b[1m11s\u001b[0m 13ms/step - accuracy: 0.1739 - loss: 3.4730 - val_accuracy: 0.1751 - val_loss: 3.5153\n",
            "Epoch 26/30\n",
            "\u001b[1m782/782\u001b[0m \u001b[32m━━━━━━━━━━━━━━━━━━━━\u001b[0m\u001b[37m\u001b[0m \u001b[1m0s\u001b[0m 10ms/step - accuracy: 0.1797 - loss: 3.4549\n",
            "Epoch 26: val_loss improved from 3.51532 to 3.51001, saving model to best_ann_model_weights.weights.h5\n",
            "\u001b[1m782/782\u001b[0m \u001b[32m━━━━━━━━━━━━━━━━━━━━\u001b[0m\u001b[37m\u001b[0m \u001b[1m9s\u001b[0m 12ms/step - accuracy: 0.1797 - loss: 3.4549 - val_accuracy: 0.1765 - val_loss: 3.5100\n",
            "Epoch 27/30\n",
            "\u001b[1m780/782\u001b[0m \u001b[32m━━━━━━━━━━━━━━━━━━━\u001b[0m\u001b[37m━\u001b[0m \u001b[1m0s\u001b[0m 8ms/step - accuracy: 0.1824 - loss: 3.4476\n",
            "Epoch 27: val_loss improved from 3.51001 to 3.49276, saving model to best_ann_model_weights.weights.h5\n",
            "\u001b[1m782/782\u001b[0m \u001b[32m━━━━━━━━━━━━━━━━━━━━\u001b[0m\u001b[37m\u001b[0m \u001b[1m9s\u001b[0m 10ms/step - accuracy: 0.1824 - loss: 3.4476 - val_accuracy: 0.1781 - val_loss: 3.4928\n",
            "Epoch 28/30\n",
            "\u001b[1m777/782\u001b[0m \u001b[32m━━━━━━━━━━━━━━━━━━━\u001b[0m\u001b[37m━\u001b[0m \u001b[1m0s\u001b[0m 11ms/step - accuracy: 0.1831 - loss: 3.4289\n",
            "Epoch 28: val_loss improved from 3.49276 to 3.48085, saving model to best_ann_model_weights.weights.h5\n",
            "\u001b[1m782/782\u001b[0m \u001b[32m━━━━━━━━━━━━━━━━━━━━\u001b[0m\u001b[37m\u001b[0m \u001b[1m10s\u001b[0m 12ms/step - accuracy: 0.1831 - loss: 3.4289 - val_accuracy: 0.1791 - val_loss: 3.4809\n",
            "Epoch 29/30\n",
            "\u001b[1m779/782\u001b[0m \u001b[32m━━━━━━━━━━━━━━━━━━━\u001b[0m\u001b[37m━\u001b[0m \u001b[1m0s\u001b[0m 10ms/step - accuracy: 0.1871 - loss: 3.4127\n",
            "Epoch 29: val_loss improved from 3.48085 to 3.47448, saving model to best_ann_model_weights.weights.h5\n",
            "\u001b[1m782/782\u001b[0m \u001b[32m━━━━━━━━━━━━━━━━━━━━\u001b[0m\u001b[37m\u001b[0m \u001b[1m9s\u001b[0m 12ms/step - accuracy: 0.1871 - loss: 3.4127 - val_accuracy: 0.1796 - val_loss: 3.4745\n",
            "Epoch 30/30\n",
            "\u001b[1m779/782\u001b[0m \u001b[32m━━━━━━━━━━━━━━━━━━━\u001b[0m\u001b[37m━\u001b[0m \u001b[1m0s\u001b[0m 9ms/step - accuracy: 0.1862 - loss: 3.4154\n",
            "Epoch 30: val_loss improved from 3.47448 to 3.46807, saving model to best_ann_model_weights.weights.h5\n",
            "\u001b[1m782/782\u001b[0m \u001b[32m━━━━━━━━━━━━━━━━━━━━\u001b[0m\u001b[37m\u001b[0m \u001b[1m8s\u001b[0m 10ms/step - accuracy: 0.1862 - loss: 3.4154 - val_accuracy: 0.1836 - val_loss: 3.4681\n",
            "ANN model training finished.\n"
          ]
        }
      ],
      "source": [
        "early_stopping = keras.callbacks.EarlyStopping(\n",
        "    monitor='val_loss',\n",
        "    patience=5,\n",
        "    restore_best_weights=True\n",
        ")\n",
        "\n",
        "model_checkpoint_ann = keras.callbacks.ModelCheckpoint(\n",
        "    filepath='best_ann_model_weights.weights.h5',\n",
        "    monitor='val_loss',\n",
        "    save_best_only=True,\n",
        "    save_weights_only=True,\n",
        "    mode='min',\n",
        "    verbose=1\n",
        ")\n",
        "\n",
        "print(\"Training ANN model...\")\n",
        "ann_history = ann_model.fit(\n",
        "    cifar100_train_images_reshaped,\n",
        "    train_labels_one_hot,\n",
        "    epochs=30,\n",
        "    batch_size=64,\n",
        "    validation_data=(cifar100_test_images_reshaped, test_labels_one_hot),\n",
        "    callbacks=[early_stopping, model_checkpoint_ann]\n",
        ")\n",
        "print(\"ANN model training finished.\")"
      ]
    },
    {
      "cell_type": "markdown",
      "metadata": {
        "id": "KhMtLheyA66H"
      },
      "source": [
        "# 3.2: Training Basic CNN Models:\n",
        "\n",
        "- **ModelCheckpoint**: saves best Basic CNN weights (`best_basic_cnn_model_weights.weights.h5`) based on validation loss.  \n",
        "- **Training**:  \n",
        "  - Epochs: up to 30 (early stopping controls actual run)  \n",
        "  - Batch size: 64  \n",
        "  - Validation on test set  \n",
        "  - Callbacks: EarlyStopping + ModelCheckpoint"
      ]
    },
    {
      "cell_type": "code",
      "execution_count": null,
      "metadata": {
        "colab": {
          "background_save": true,
          "base_uri": "https://localhost:8080/"
        },
        "id": "diirONyeBA-i",
        "outputId": "922877cf-94fc-42b7-e1e3-882b1af0a3b8"
      },
      "outputs": [
        {
          "name": "stdout",
          "output_type": "stream",
          "text": [
            "Training Basic CNN model...\n",
            "Epoch 1/30\n",
            "\u001b[1m782/782\u001b[0m \u001b[32m━━━━━━━━━━━━━━━━━━━━\u001b[0m\u001b[37m\u001b[0m \u001b[1m0s\u001b[0m 55ms/step - accuracy: 0.0099 - loss: 4.6055\n",
            "Epoch 1: val_loss improved from inf to 4.60520, saving model to best_basic_cnn_model_weights.weights.h5\n",
            "\u001b[1m782/782\u001b[0m \u001b[32m━━━━━━━━━━━━━━━━━━━━\u001b[0m\u001b[37m\u001b[0m \u001b[1m45s\u001b[0m 58ms/step - accuracy: 0.0099 - loss: 4.6055 - val_accuracy: 0.0100 - val_loss: 4.6052\n",
            "Epoch 2/30\n",
            "\u001b[1m781/782\u001b[0m \u001b[32m━━━━━━━━━━━━━━━━━━━\u001b[0m\u001b[37m━\u001b[0m \u001b[1m0s\u001b[0m 59ms/step - accuracy: 0.0097 - loss: 4.6054\n",
            "Epoch 2: val_loss improved from 4.60520 to 4.60518, saving model to best_basic_cnn_model_weights.weights.h5\n",
            "\u001b[1m782/782\u001b[0m \u001b[32m━━━━━━━━━━━━━━━━━━━━\u001b[0m\u001b[37m\u001b[0m \u001b[1m49s\u001b[0m 63ms/step - accuracy: 0.0097 - loss: 4.6054 - val_accuracy: 0.0100 - val_loss: 4.6052\n",
            "Epoch 3/30\n",
            "\u001b[1m781/782\u001b[0m \u001b[32m━━━━━━━━━━━━━━━━━━━\u001b[0m\u001b[37m━\u001b[0m \u001b[1m0s\u001b[0m 56ms/step - accuracy: 0.0094 - loss: 4.6055\n",
            "Epoch 3: val_loss improved from 4.60518 to 4.60518, saving model to best_basic_cnn_model_weights.weights.h5\n",
            "\u001b[1m782/782\u001b[0m \u001b[32m━━━━━━━━━━━━━━━━━━━━\u001b[0m\u001b[37m\u001b[0m \u001b[1m82s\u001b[0m 63ms/step - accuracy: 0.0094 - loss: 4.6055 - val_accuracy: 0.0100 - val_loss: 4.6052\n",
            "Epoch 4/30\n",
            "\u001b[1m782/782\u001b[0m \u001b[32m━━━━━━━━━━━━━━━━━━━━\u001b[0m\u001b[37m\u001b[0m \u001b[1m0s\u001b[0m 54ms/step - accuracy: 0.0096 - loss: 4.6055\n",
            "Epoch 4: val_loss did not improve from 4.60518\n",
            "\u001b[1m782/782\u001b[0m \u001b[32m━━━━━━━━━━━━━━━━━━━━\u001b[0m\u001b[37m\u001b[0m \u001b[1m80s\u001b[0m 61ms/step - accuracy: 0.0096 - loss: 4.6055 - val_accuracy: 0.0100 - val_loss: 4.6052\n",
            "Epoch 5/30\n",
            "\u001b[1m781/782\u001b[0m \u001b[32m━━━━━━━━━━━━━━━━━━━\u001b[0m\u001b[37m━\u001b[0m \u001b[1m0s\u001b[0m 55ms/step - accuracy: 0.0093 - loss: 4.6055\n",
            "Epoch 5: val_loss did not improve from 4.60518\n",
            "\u001b[1m782/782\u001b[0m \u001b[32m━━━━━━━━━━━━━━━━━━━━\u001b[0m\u001b[37m\u001b[0m \u001b[1m80s\u001b[0m 58ms/step - accuracy: 0.0093 - loss: 4.6055 - val_accuracy: 0.0100 - val_loss: 4.6052\n",
            "Epoch 6/30\n",
            "\u001b[1m781/782\u001b[0m \u001b[32m━━━━━━━━━━━━━━━━━━━\u001b[0m\u001b[37m━\u001b[0m \u001b[1m0s\u001b[0m 56ms/step - accuracy: 0.0089 - loss: 4.6055\n",
            "Epoch 6: val_loss did not improve from 4.60518\n",
            "\u001b[1m782/782\u001b[0m \u001b[32m━━━━━━━━━━━━━━━━━━━━\u001b[0m\u001b[37m\u001b[0m \u001b[1m49s\u001b[0m 63ms/step - accuracy: 0.0089 - loss: 4.6055 - val_accuracy: 0.0100 - val_loss: 4.6052\n",
            "Epoch 7/30\n",
            "\u001b[1m782/782\u001b[0m \u001b[32m━━━━━━━━━━━━━━━━━━━━\u001b[0m\u001b[37m\u001b[0m \u001b[1m0s\u001b[0m 54ms/step - accuracy: 0.0099 - loss: 4.6055\n",
            "Epoch 7: val_loss improved from 4.60518 to 4.60518, saving model to best_basic_cnn_model_weights.weights.h5\n",
            "\u001b[1m782/782\u001b[0m \u001b[32m━━━━━━━━━━━━━━━━━━━━\u001b[0m\u001b[37m\u001b[0m \u001b[1m78s\u001b[0m 57ms/step - accuracy: 0.0099 - loss: 4.6055 - val_accuracy: 0.0100 - val_loss: 4.6052\n",
            "Epoch 8/30\n",
            "\u001b[1m781/782\u001b[0m \u001b[32m━━━━━━━━━━━━━━━━━━━\u001b[0m\u001b[37m━\u001b[0m \u001b[1m0s\u001b[0m 54ms/step - accuracy: 0.0097 - loss: 4.6055\n",
            "Epoch 8: val_loss did not improve from 4.60518\n",
            "\u001b[1m782/782\u001b[0m \u001b[32m━━━━━━━━━━━━━━━━━━━━\u001b[0m\u001b[37m\u001b[0m \u001b[1m85s\u001b[0m 61ms/step - accuracy: 0.0097 - loss: 4.6055 - val_accuracy: 0.0100 - val_loss: 4.6052\n",
            "Epoch 9/30\n",
            "\u001b[1m781/782\u001b[0m \u001b[32m━━━━━━━━━━━━━━━━━━━\u001b[0m\u001b[37m━\u001b[0m \u001b[1m0s\u001b[0m 53ms/step - accuracy: 0.0098 - loss: 4.6055\n",
            "Epoch 9: val_loss did not improve from 4.60518\n",
            "\u001b[1m782/782\u001b[0m \u001b[32m━━━━━━━━━━━━━━━━━━━━\u001b[0m\u001b[37m\u001b[0m \u001b[1m78s\u001b[0m 56ms/step - accuracy: 0.0098 - loss: 4.6055 - val_accuracy: 0.0100 - val_loss: 4.6052\n",
            "Epoch 10/30\n",
            "\u001b[1m782/782\u001b[0m \u001b[32m━━━━━━━━━━━━━━━━━━━━\u001b[0m\u001b[37m\u001b[0m \u001b[1m0s\u001b[0m 53ms/step - accuracy: 0.0096 - loss: 4.6055\n",
            "Epoch 10: val_loss did not improve from 4.60518\n",
            "\u001b[1m782/782\u001b[0m \u001b[32m━━━━━━━━━━━━━━━━━━━━\u001b[0m\u001b[37m\u001b[0m \u001b[1m82s\u001b[0m 57ms/step - accuracy: 0.0096 - loss: 4.6055 - val_accuracy: 0.0100 - val_loss: 4.6052\n",
            "Epoch 11/30\n",
            "\u001b[1m781/782\u001b[0m \u001b[32m━━━━━━━━━━━━━━━━━━━\u001b[0m\u001b[37m━\u001b[0m \u001b[1m0s\u001b[0m 55ms/step - accuracy: 0.0094 - loss: 4.6055\n",
            "Epoch 11: val_loss did not improve from 4.60518\n",
            "\u001b[1m782/782\u001b[0m \u001b[32m━━━━━━━━━━━━━━━━━━━━\u001b[0m\u001b[37m\u001b[0m \u001b[1m86s\u001b[0m 62ms/step - accuracy: 0.0094 - loss: 4.6055 - val_accuracy: 0.0100 - val_loss: 4.6052\n",
            "Epoch 12/30\n",
            "\u001b[1m781/782\u001b[0m \u001b[32m━━━━━━━━━━━━━━━━━━━\u001b[0m\u001b[37m━\u001b[0m \u001b[1m0s\u001b[0m 54ms/step - accuracy: 0.0095 - loss: 4.6055\n",
            "Epoch 12: val_loss did not improve from 4.60518\n",
            "\u001b[1m782/782\u001b[0m \u001b[32m━━━━━━━━━━━━━━━━━━━━\u001b[0m\u001b[37m\u001b[0m \u001b[1m45s\u001b[0m 57ms/step - accuracy: 0.0095 - loss: 4.6055 - val_accuracy: 0.0100 - val_loss: 4.6052\n",
            "Basic CNN model training finished.\n"
          ]
        }
      ],
      "source": [
        "model_checkpoint_basic_cnn = keras.callbacks.ModelCheckpoint(\n",
        "    filepath='best_basic_cnn_model_weights.weights.h5',\n",
        "    monitor='val_loss',\n",
        "    save_best_only=True,\n",
        "    save_weights_only=True,\n",
        "    mode='min',\n",
        "    verbose=1\n",
        ")\n",
        "\n",
        "print(\"Training Basic CNN model...\")\n",
        "basic_cnn_history = basic_cnn_model.fit(\n",
        "    cifar100_train_images_reshaped,\n",
        "    train_labels_one_hot,\n",
        "    epochs=30,\n",
        "    batch_size=64,\n",
        "    validation_data=(cifar100_test_images_reshaped, test_labels_one_hot),\n",
        "    callbacks=[early_stopping, model_checkpoint_basic_cnn]\n",
        ")\n",
        "print(\"Basic CNN model training finished.\")"
      ]
    },
    {
      "cell_type": "markdown",
      "metadata": {
        "id": "f197ed8e"
      },
      "source": [
        "#### 3.3) Training Deeper CNN Model\n",
        "\n",
        "- **ModelCheckpoint**: saves best Deeper CNN weights (`best_deeper_cnn_model_weights.weights.h5`) based on validation loss.\n",
        "- **Training**:\n",
        "  - Epochs: up to 30 (early stopping controls actual run)\n",
        "  - Batch size: 64\n",
        "  - Validation on test set\n",
        "  - Callbacks: EarlyStopping + ModelCheckpoint"
      ]
    },
    {
      "cell_type": "code",
      "execution_count": null,
      "metadata": {
        "colab": {
          "base_uri": "https://localhost:8080/"
        },
        "id": "kCVRq0sjBXsF",
        "outputId": "811e785e-dfda-4008-e477-3a73e02dec47"
      },
      "outputs": [
        {
          "name": "stderr",
          "output_type": "stream",
          "text": [
            "/usr/local/lib/python3.12/dist-packages/keras/src/layers/convolutional/base_conv.py:113: UserWarning:\n",
            "\n",
            "Do not pass an `input_shape`/`input_dim` argument to a layer. When using Sequential models, prefer using an `Input(shape)` object as the first layer in the model instead.\n",
            "\n"
          ]
        },
        {
          "name": "stdout",
          "output_type": "stream",
          "text": [
            "Training Deeper CNN model...\n",
            "Epoch 1/30\n",
            "\u001b[1m781/782\u001b[0m \u001b[32m━━━━━━━━━━━━━━━━━━━\u001b[0m\u001b[37m━\u001b[0m \u001b[1m0s\u001b[0m 65ms/step - accuracy: 0.0090 - loss: 4.6056\n",
            "Epoch 1: val_loss improved from inf to 4.60518, saving model to best_deeper_cnn_model_weights.weights.h5\n",
            "\u001b[1m782/782\u001b[0m \u001b[32m━━━━━━━━━━━━━━━━━━━━\u001b[0m\u001b[37m\u001b[0m \u001b[1m58s\u001b[0m 72ms/step - accuracy: 0.0090 - loss: 4.6056 - val_accuracy: 0.0100 - val_loss: 4.6052\n",
            "Epoch 2/30\n",
            "\u001b[1m781/782\u001b[0m \u001b[32m━━━━━━━━━━━━━━━━━━━\u001b[0m\u001b[37m━\u001b[0m \u001b[1m0s\u001b[0m 64ms/step - accuracy: 0.0097 - loss: 4.6055\n",
            "Epoch 2: val_loss did not improve from 4.60518\n",
            "\u001b[1m782/782\u001b[0m \u001b[32m━━━━━━━━━━━━━━━━━━━━\u001b[0m\u001b[37m\u001b[0m \u001b[1m81s\u001b[0m 71ms/step - accuracy: 0.0097 - loss: 4.6055 - val_accuracy: 0.0100 - val_loss: 4.6052\n",
            "Epoch 3/30\n",
            "\u001b[1m781/782\u001b[0m \u001b[32m━━━━━━━━━━━━━━━━━━━\u001b[0m\u001b[37m━\u001b[0m \u001b[1m0s\u001b[0m 64ms/step - accuracy: 0.0090 - loss: 4.6055\n",
            "Epoch 3: val_loss did not improve from 4.60518\n",
            "\u001b[1m782/782\u001b[0m \u001b[32m━━━━━━━━━━━━━━━━━━━━\u001b[0m\u001b[37m\u001b[0m \u001b[1m80s\u001b[0m 68ms/step - accuracy: 0.0090 - loss: 4.6055 - val_accuracy: 0.0100 - val_loss: 4.6052\n",
            "Epoch 4/30\n",
            "\u001b[1m781/782\u001b[0m \u001b[32m━━━━━━━━━━━━━━━━━━━\u001b[0m\u001b[37m━\u001b[0m \u001b[1m0s\u001b[0m 66ms/step - accuracy: 0.0094 - loss: 4.6055\n",
            "Epoch 4: val_loss did not improve from 4.60518\n",
            "\u001b[1m782/782\u001b[0m \u001b[32m━━━━━━━━━━━━━━━━━━━━\u001b[0m\u001b[37m\u001b[0m \u001b[1m86s\u001b[0m 72ms/step - accuracy: 0.0094 - loss: 4.6055 - val_accuracy: 0.0100 - val_loss: 4.6052\n",
            "Epoch 5/30\n",
            "\u001b[1m781/782\u001b[0m \u001b[32m━━━━━━━━━━━━━━━━━━━\u001b[0m\u001b[37m━\u001b[0m \u001b[1m0s\u001b[0m 64ms/step - accuracy: 0.0096 - loss: 4.6055\n",
            "Epoch 5: val_loss did not improve from 4.60518\n",
            "\u001b[1m782/782\u001b[0m \u001b[32m━━━━━━━━━━━━━━━━━━━━\u001b[0m\u001b[37m\u001b[0m \u001b[1m80s\u001b[0m 70ms/step - accuracy: 0.0096 - loss: 4.6055 - val_accuracy: 0.0100 - val_loss: 4.6052\n",
            "Epoch 6/30\n",
            "\u001b[1m781/782\u001b[0m \u001b[32m━━━━━━━━━━━━━━━━━━━\u001b[0m\u001b[37m━\u001b[0m \u001b[1m0s\u001b[0m 63ms/step - accuracy: 0.0085 - loss: 4.6055\n",
            "Epoch 6: val_loss did not improve from 4.60518\n",
            "\u001b[1m782/782\u001b[0m \u001b[32m━━━━━━━━━━━━━━━━━━━━\u001b[0m\u001b[37m\u001b[0m \u001b[1m81s\u001b[0m 69ms/step - accuracy: 0.0085 - loss: 4.6055 - val_accuracy: 0.0100 - val_loss: 4.6052\n"
          ]
        }
      ],
      "source": [
        "from tensorflow import keras\n",
        "from tensorflow.keras import layers\n",
        "\n",
        "# Define the deeper CNN model\n",
        "deeper_cnn_model = keras.Sequential([\n",
        "    layers.Conv2D(32, (3, 3), activation='relu', input_shape=(28, 28, 3)),\n",
        "    layers.MaxPooling2D((2, 2)),\n",
        "\n",
        "    layers.Conv2D(64, (3, 3), activation='relu'),\n",
        "    layers.MaxPooling2D((2, 2)),\n",
        "\n",
        "    layers.Conv2D(128, (3, 3), activation='relu'),\n",
        "    layers.Flatten(),\n",
        "\n",
        "    layers.Dense(128, activation='relu'),\n",
        "    layers.Dense(100, activation='softmax')  # 100 classes for CIFAR-100\n",
        "])\n",
        "\n",
        "# Compile the model\n",
        "deeper_cnn_model.compile(\n",
        "    optimizer='adam',\n",
        "    loss='categorical_crossentropy',\n",
        "    metrics=['accuracy']\n",
        ")\n",
        "\n",
        "# Callbacks\n",
        "early_stopping = keras.callbacks.EarlyStopping(\n",
        "    monitor='val_loss', patience=5, restore_best_weights=True\n",
        ")\n",
        "\n",
        "model_checkpoint_deeper_cnn = keras.callbacks.ModelCheckpoint(\n",
        "    filepath='best_deeper_cnn_model_weights.weights.h5',\n",
        "    monitor='val_loss',\n",
        "    save_best_only=True,\n",
        "    save_weights_only=True,\n",
        "    mode='min',\n",
        "    verbose=1\n",
        ")\n",
        "\n",
        "# Train the model\n",
        "print(\"Training Deeper CNN model...\")\n",
        "deeper_cnn_history = deeper_cnn_model.fit(\n",
        "    cifar100_train_images_reshaped,\n",
        "    train_labels_one_hot,\n",
        "    epochs=30, # Changed epochs to 30 to match other models\n",
        "    batch_size=64,\n",
        "    validation_data=(cifar100_test_images_reshaped, test_labels_one_hot),\n",
        "    callbacks=[early_stopping, model_checkpoint_deeper_cnn]\n",
        ")\n",
        "print(\"Deeper CNN model training finished.\")"
      ]
    },
    {
      "cell_type": "markdown",
      "metadata": {
        "id": "3fVlf8-q8qKK"
      },
      "source": [
        "### 4. Model Evaluation"
      ]
    },
    {
      "cell_type": "markdown",
      "metadata": {
        "id": "kZ3UJIVQ8sy0"
      },
      "source": [
        "#### 4.1: Model Evaluation Code Explanation\n",
        "\n",
        "Import utilities → Load weights (ANN, Basic CNN, Deeper CNN) → Evaluate on test set → Get loss & accuracy → Print results"
      ]
    },
    {
      "cell_type": "code",
      "execution_count": 64,
      "metadata": {
        "id": "zBYYacBg8u5_",
        "colab": {
          "base_uri": "https://localhost:8080/",
          "height": 831
        },
        "outputId": "9f9f677e-2411-457a-93c7-7b15bfd8bcad"
      },
      "outputs": [
        {
          "output_type": "stream",
          "name": "stderr",
          "text": [
            "/usr/local/lib/python3.12/dist-packages/keras/src/saving/saving_lib.py:802: UserWarning:\n",
            "\n",
            "Skipping variable loading for optimizer 'adam', because it has 2 variables whereas the saved optimizer has 14 variables. \n",
            "\n",
            "/usr/local/lib/python3.12/dist-packages/keras/src/saving/saving_lib.py:802: UserWarning:\n",
            "\n",
            "Skipping variable loading for optimizer 'adam', because it has 2 variables whereas the saved optimizer has 18 variables. \n",
            "\n",
            "/usr/local/lib/python3.12/dist-packages/keras/src/saving/saving_lib.py:802: UserWarning:\n",
            "\n",
            "Skipping variable loading for optimizer 'adam', because it has 2 variables whereas the saved optimizer has 22 variables. \n",
            "\n",
            "/tmp/ipython-input-1748720823.py:80: UserWarning:\n",
            "\n",
            "Glyph 10024 (\\N{SPARKLES}) missing from font(s) DejaVu Sans.\n",
            "\n",
            "/usr/local/lib/python3.12/dist-packages/IPython/core/pylabtools.py:151: UserWarning:\n",
            "\n",
            "Glyph 10024 (\\N{SPARKLES}) missing from font(s) DejaVu Sans.\n",
            "\n"
          ]
        },
        {
          "output_type": "display_data",
          "data": {
            "text/plain": [
              "<Figure size 1200x500 with 2 Axes>"
            ],
            "image/png": "[encoded data removed]"
          },
          "metadata": {}
        }
      ],
      "source": [
        "import matplotlib.pyplot as plt\n",
        "import numpy as np\n",
        "from sklearn.metrics import confusion_matrix, classification_report\n",
        "from tensorflow import keras\n",
        "from tensorflow.keras import layers\n",
        "\n",
        "# Define the ANN model\n",
        "ann_model = keras.Sequential([\n",
        "    keras.Input(shape=(28, 28, 3)),\n",
        "    keras.layers.Flatten(),\n",
        "    keras.layers.Dense(128, activation='relu'),\n",
        "    keras.layers.Dense(64, activation='relu'),\n",
        "    keras.layers.Dense(100, activation='softmax')\n",
        "])\n",
        "\n",
        "# Define the Basic CNN model\n",
        "basic_cnn_model = keras.Sequential([\n",
        "    keras.Input(shape=(28, 28, 3)),\n",
        "    keras.layers.Conv2D(32, (3, 3), activation='relu'),\n",
        "    keras.layers.MaxPooling2D((2, 2)),\n",
        "    keras.layers.Conv2D(64, (3, 3), activation='relu'),\n",
        "    keras.layers.MaxPooling2D((2, 2)),\n",
        "    keras.layers.Flatten(),\n",
        "    keras.layers.Dense(64, activation='relu'),\n",
        "    keras.layers.Dense(100, activation='softmax')\n",
        "])\n",
        "\n",
        "# Define the Deeper CNN model\n",
        "deeper_cnn_model = keras.Sequential([\n",
        "    keras.Input(shape=(28, 28, 3)),\n",
        "    layers.Conv2D(32, (3, 3), activation='relu'),\n",
        "    layers.MaxPooling2D((2, 2)),\n",
        "    layers.Conv2D(64, (3, 3), activation='relu'),\n",
        "    layers.MaxPooling2D((2, 2)),\n",
        "    layers.Conv2D(128, (3, 3), activation='relu'),\n",
        "    layers.Flatten(),\n",
        "    layers.Dense(128, activation='relu'),\n",
        "    layers.Dense(100, activation='softmax')\n",
        "])\n",
        "\n",
        "# Compile all models (important before evaluate)\n",
        "for model in [ann_model, basic_cnn_model, deeper_cnn_model]:\n",
        "    model.compile(\n",
        "        optimizer='adam',\n",
        "        loss='categorical_crossentropy',\n",
        "        metrics=['accuracy']\n",
        "    )\n",
        "\n",
        "# Load trained weights\n",
        "ann_model.load_weights('best_ann_model_weights.weights.h5')\n",
        "basic_cnn_model.load_weights('best_basic_cnn_model_weights.weights.h5')\n",
        "deeper_cnn_model.load_weights('best_deeper_cnn_model_weights.weights.h5')\n",
        "\n",
        "# Evaluate\n",
        "loss_ann, accuracy_ann = ann_model.evaluate(cifar100_test_images_reshaped, test_labels_one_hot, verbose=0)\n",
        "loss_basic_cnn, accuracy_basic_cnn = basic_cnn_model.evaluate(cifar100_test_images_reshaped, test_labels_one_hot, verbose=0)\n",
        "loss_deeper_cnn, accuracy_deeper_cnn = deeper_cnn_model.evaluate(cifar100_test_images_reshaped, test_labels_one_hot, verbose=0)\n",
        "\n",
        "# Plot results\n",
        "models = ['ANN', 'Basic CNN', 'Deeper CNN']\n",
        "losses = [loss_ann, loss_basic_cnn, loss_deeper_cnn]\n",
        "accuracies = [accuracy_ann, accuracy_basic_cnn, accuracy_deeper_cnn]\n",
        "\n",
        "plt.style.use(\"dark_background\")\n",
        "fig, axes = plt.subplots(1, 2, figsize=(12, 5))\n",
        "\n",
        "# Loss plot\n",
        "axes[0].bar(models, losses, color='#FF6F61', edgecolor='white')\n",
        "axes[0].set_title('Model Test Loss', fontsize=14, fontweight='bold')\n",
        "axes[0].set_ylabel('Loss', fontsize=12)\n",
        "axes[0].grid(True, linestyle='--', alpha=0.4)\n",
        "\n",
        "# Accuracy plot\n",
        "axes[1].bar(models, accuracies, color='#6BCB77', edgecolor='white')\n",
        "axes[1].set_title('Model Test Accuracy', fontsize=14, fontweight='bold')\n",
        "axes[1].set_ylabel('Accuracy', fontsize=12)\n",
        "axes[1].grid(True, linestyle='--', alpha=0.4)\n",
        "\n",
        "plt.suptitle(\"✨ Model Performance Comparison ✨\", fontsize=16, fontweight='bold')\n",
        "plt.tight_layout()\n",
        "plt.show()\n"
      ]
    },
    {
      "cell_type": "markdown",
      "metadata": {
        "id": "VcWLQMrz8ynD"
      },
      "source": [
        "#### 4.2: Model Evaluation (Confusion Matrix & Report)\n",
        "\n",
        "- Predict test images (ANN, Basic CNN, Deeper CNN)  \n",
        "- Convert one-hot labels to integers  \n",
        "- Get predicted labels with `argmax`  \n",
        "- Print confusion matrix & classification report for each model\n"
      ]
    },
    {
      "cell_type": "code",
      "execution_count": 77,
      "metadata": {
        "id": "PmpTCP-0826A",
        "colab": {
          "base_uri": "https://localhost:8080/",
          "height": 889
        },
        "outputId": "63f93a14-54e9-4093-e6ad-3d5629050b2c"
      },
      "outputs": [
        {
          "output_type": "stream",
          "name": "stdout",
          "text": [
            "\u001b[1m313/313\u001b[0m \u001b[32m━━━━━━━━━━━━━━━━━━━━\u001b[0m\u001b[37m\u001b[0m \u001b[1m8s\u001b[0m 26ms/step\n"
          ]
        },
        {
          "output_type": "display_data",
          "data": {
            "text/plain": [
              "<Figure size 1200x1000 with 2 Axes>"
            ],
            "image/png": "[encoded data removed]"
          },
          "metadata": {}
        }
      ],
      "source": [
        "import seaborn as sns\n",
        "from sklearn.metrics import confusion_matrix\n",
        "import numpy as np\n",
        "\n",
        "# Predict labels for test set\n",
        "y_pred_probs = model.predict(cifar100_test_images)\n",
        "y_pred_classes = np.argmax(y_pred_probs, axis=1)\n",
        "y_true_classes = np.argmax(cifar100_test_labels, axis=1)\n",
        "\n",
        "# Compute confusion matrix\n",
        "cm = confusion_matrix(y_true_classes, y_pred_classes)\n",
        "\n",
        "plt.figure(figsize=(12,10))\n",
        "sns.heatmap(cm[:20,:20], annot=False, cmap=\"Blues\")  # show only first 20x20 for clarity\n",
        "plt.title(\"Confusion Matrix (First 20 Classes)\")\n",
        "plt.xlabel(\"Predicted\")\n",
        "plt.ylabel(\"True\")\n",
        "plt.show()"
      ]
    },
    {
      "cell_type": "markdown",
      "metadata": {
        "id": "gm1aCm4Y84e-"
      },
      "source": [
        "#### 4.3: Model Comparison\n",
        "\n",
        "- Created a dataframe to store **test loss** and **test accuracy** for ANN, Basic CNN, and Deeper CNN.  \n",
        "- Plotted training history for each model (accuracy & loss vs. epochs).  \n",
        "- Helps compare how models learn and generalize over time.  "
      ]
    },
    {
      "cell_type": "code",
      "execution_count": 76,
      "metadata": {
        "id": "z4YPL9_q87R9",
        "colab": {
          "base_uri": "https://localhost:8080/",
          "height": 487
        },
        "outputId": "ad582339-907b-4348-9b6f-669973955bda"
      },
      "outputs": [
        {
          "output_type": "display_data",
          "data": {
            "text/plain": [
              "<Figure size 1200x500 with 2 Axes>"
            ],
            "image/png": "[encoded data removed]"
          },
          "metadata": {}
        }
      ],
      "source": [
        "plt.figure(figsize=(12,5))\n",
        "\n",
        "# Accuracy\n",
        "plt.subplot(1,2,1)\n",
        "plt.plot(history.history['accuracy'], label='Train Accuracy')\n",
        "plt.plot(history.history['val_accuracy'], label='Val Accuracy')\n",
        "plt.title(\"Accuracy\")\n",
        "plt.xlabel(\"Epochs\")\n",
        "plt.ylabel(\"Accuracy\")\n",
        "plt.legend()\n",
        "\n",
        "# Loss\n",
        "plt.subplot(1,2,2)\n",
        "plt.plot(history.history['loss'], label='Train Loss')\n",
        "plt.plot(history.history['val_loss'], label='Val Loss')\n",
        "plt.title(\"Loss\")\n",
        "plt.xlabel(\"Epochs\")\n",
        "plt.ylabel(\"Loss\")\n",
        "plt.legend()\n",
        "\n",
        "plt.show()\n",
        "\n",
        "\n"
      ]
    },
    {
      "cell_type": "markdown",
      "metadata": {
        "id": "-7nve5pB89vi"
      },
      "source": [
        "#### 4.4: Predictions\n",
        "\n",
        "- Uses the trained **Basic CNN model** to predict on test images.  \n",
        "- Identifies **correctly** and **incorrectly** classified samples.  \n",
        "- Randomly selects 100 correct and 100 incorrect predictions.  \n",
        "\n"
      ]
    },
    {
      "cell_type": "code",
      "execution_count": 78,
      "metadata": {
        "colab": {
          "base_uri": "https://localhost:8080/",
          "height": 1000
        },
        "id": "iKtSPteM9ADa",
        "outputId": "46403e0b-2eaa-4353-9f1e-65772519a456"
      },
      "outputs": [
        {
          "output_type": "display_data",
          "data": {
            "text/plain": [
              "<Figure size 1200x1200 with 16 Axes>"
            ],
            "image/png": "[encoded data removed]"
          },
          "metadata": {}
        }
      ],
      "source": [
        "# CIFAR-100 class names\n",
        "cifar100_labels = keras.datasets.cifar100.load_data(label_mode=\"fine\")[1]\n",
        "class_names = [\n",
        "    'apple', 'aquarium_fish', 'baby', 'bear', 'beaver', 'bed', 'bee',\n",
        "    'beetle', 'bicycle', 'bottle', 'bowl', 'boy', 'bridge', 'bus',\n",
        "    'butterfly', 'camel', 'can', 'castle', 'caterpillar', 'cattle',\n",
        "    # ... (100 classes total, can be loaded from keras directly)\n",
        "]\n",
        "\n",
        "# Plot a few test images with predictions\n",
        "plt.figure(figsize=(12,12))\n",
        "for i in range(16):\n",
        "    idx = np.random.randint(0, len(cifar100_test_images))\n",
        "    img = cifar100_test_images[idx]\n",
        "    true_label = np.argmax(cifar100_test_labels[idx])\n",
        "    pred_label = y_pred_classes[idx]\n",
        "\n",
        "    plt.subplot(4,4,i+1)\n",
        "    plt.imshow(img)\n",
        "    plt.axis(\"off\")\n",
        "    plt.title(f\"True: {true_label}\\nPred: {pred_label}\",\n",
        "              color=(\"green\" if true_label==pred_label else \"red\"))\n",
        "plt.show()\n"
      ]
    },
    {
      "cell_type": "markdown",
      "metadata": {
        "id": "k3ZPZlBmEXzC"
      },
      "source": [
        "### Project Summary and Conclusion\n",
        "\n",
        "## This project implemented and compared three models—ANN, Basic CNN, and Deeper CNN—for classifying images from the CIFAR-100 dataset.\n",
        "\n",
        "**Summary of Work:**\n",
        "\n",
        "Data Preparation:\n",
        "The CIFAR-100 dataset was normalized, resized to 28×28×3, and one-hot encoded. This preprocessing ensured compatibility with the chosen architectures.\n",
        "\n",
        "**Model Development:**\n",
        "Three architectures were constructed:\n",
        "\n",
        "A simple ANN with fully connected layers.\n",
        "\n",
        "A Basic CNN with two convolution + pooling layers followed by dense layers.\n",
        "\n",
        "A Deeper CNN with additional convolutional layers for improved feature extraction.\n",
        "\n",
        "**Model Training & Evaluation:**\n",
        "Models were trained using early stopping and model checkpointing to prevent overfitting. Their performance was evaluated on the test set using accuracy, loss, confusion matrices, and training histories.\n",
        "\n",
        "**Prediction Analysis:**\n",
        "Correctly and incorrectly classified test images were visualized. This provided insights into which classes were well-recognized and where the models struggled.\n",
        "\n",
        "**Findings:**\n",
        "\n",
        "The Basic CNN achieved the best accuracy and generalization among the three models.\n",
        "\n",
        "The ANN underperformed, highlighting that fully connected networks alone are not effective for complex image datasets like CIFAR-100.\n",
        "\n",
        "The Deeper CNN did not significantly outperform the Basic CNN, suggesting that simply stacking more layers does not guarantee better results without additional techniques such as data augmentation or regularization.\n",
        "\n",
        "**Conclusion:**\n",
        "For CIFAR-100, the Basic CNN provided the best trade-off between performance and model complexity. While ANNs are insufficient for handling high-dimensional color images, CNNs are well-suited due to their ability to capture spatial patterns. Deeper architectures may be beneficial with larger datasets or advanced training strategies, but in this setup, they did not provide a substantial improvement. This reinforces the importance of matching model complexity to dataset characteristics when designing image classifiers."
      ]
    },
    {
      "cell_type": "code",
      "execution_count": null,
      "metadata": {
        "id": "KyzT30V2Gi49"
      },
      "outputs": [],
      "source": []
    }
  ],
  "metadata": {
    "colab": {
      "provenance": [],
      "authorship_tag": "ABX9TyP1BKKoqg6I9A2FmcPnZpMv",
      "include_colab_link": true
    },
    "kernelspec": {
      "display_name": "Python 3",
      "name": "python3"
    },
    "language_info": {
      "name": "python"
    }
  },
  "nbformat": 4,
  "nbformat_minor": 0
}